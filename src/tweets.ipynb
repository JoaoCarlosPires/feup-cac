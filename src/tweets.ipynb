{
 "cells": [
  {
   "cell_type": "markdown",
   "metadata": {
    "pycharm": {
     "name": "#%% md\n"
    }
   },
   "source": [
    "This Jupyter Notebook contains all the process to develop a model that can predict the category of tweets related with COVID-19. The category for each tweet can be one or more of the following four categories: Accept, Reject, No Stance, Not Relevant."
   ]
  },
  {
   "cell_type": "markdown",
   "metadata": {
    "pycharm": {
     "name": "#%% md\n"
    }
   },
   "source": [
    "# Setup"
   ]
  },
  {
   "cell_type": "markdown",
   "metadata": {
    "pycharm": {
     "name": "#%% md\n"
    }
   },
   "source": [
    "First of all, we start by importing the necessary libraries."
   ]
  },
  {
   "cell_type": "code",
   "execution_count": 1,
   "metadata": {
    "pycharm": {
     "name": "#%%\n"
    }
   },
   "outputs": [
    {
     "name": "stderr",
     "output_type": "stream",
     "text": [
      "[nltk_data] Downloading package stopwords to\n",
      "[nltk_data]     /Users/joaobrandao/nltk_data...\n",
      "[nltk_data]   Package stopwords is already up-to-date!\n",
      "[nltk_data] Downloading package punkt to\n",
      "[nltk_data]     /Users/joaobrandao/nltk_data...\n",
      "[nltk_data]   Package punkt is already up-to-date!\n"
     ]
    }
   ],
   "source": [
    "import pandas as pd\n",
    "import tweepy\n",
    "import os\n",
    "import json\n",
    "from dotenv import load_dotenv\n",
    "from tensorflow.keras.preprocessing.text import Tokenizer\n",
    "from tensorflow.keras.preprocessing.sequence import pad_sequences\n",
    "import numpy as np\n",
    "import wget\n",
    "import zipfile\n",
    "import re\n",
    "from nltk.tokenize import sent_tokenize, word_tokenize\n",
    "from nltk.corpus import stopwords\n",
    "import nltk\n",
    "import ssl\n",
    "\n",
    "try:\n",
    "    _create_unverified_https_context = ssl._create_unverified_context\n",
    "except AttributeError:\n",
    "    pass\n",
    "else:\n",
    "    ssl._create_default_https_context = _create_unverified_https_context\n",
    "nltk.download('stopwords')\n",
    "nltk.download('punkt')\n",
    "from sklearn import svm\n",
    "from sklearn.linear_model import LogisticRegression\n",
    "from sklearn.metrics import classification_report\n",
    "from sklearn.ensemble import RandomForestClassifier\n",
    "from sklearn.naive_bayes import GaussianNB\n",
    "from sklearn.neighbors import KNeighborsClassifier\n",
    "from sklearn.metrics import f1_score\n",
    "\n",
    "import tensorflow as tf\n",
    "from tensorflow.keras import layers, models\n",
    "import matplotlib.pyplot as plt\n",
    "from keras import backend as K\n",
    "from vaderSentiment.vaderSentiment import SentimentIntensityAnalyzer\n",
    "from collections import Counter"
   ]
  },
  {
   "cell_type": "code",
   "execution_count": 2,
   "metadata": {
    "pycharm": {
     "name": "#%%\n"
    }
   },
   "outputs": [
    {
     "data": {
      "text/plain": [
       "True"
      ]
     },
     "execution_count": 2,
     "metadata": {},
     "output_type": "execute_result"
    }
   ],
   "source": [
    "load_dotenv()"
   ]
  },
  {
   "cell_type": "markdown",
   "metadata": {
    "pycharm": {
     "name": "#%% md\n"
    }
   },
   "source": [
    "Then, we configure the client variable with a Client instance of the library tweepy, that will allow us to collect the tweets to train and test our model. To configure this Client instance, it's necessary to have a Twitter API Public and Secret Key, as well as a Public and Secret Token. Those Keys and Tokens were configured individually for each group member, based on each one Twitter API credentials, on the .env file, which contains only the structure with placeholders at the delivery stage. In order to run the code from now on, it's necessary to configure properly the .env file first.  "
   ]
  },
  {
   "cell_type": "code",
   "execution_count": 3,
   "metadata": {
    "pycharm": {
     "name": "#%%\n"
    }
   },
   "outputs": [],
   "source": [
    "API_KEY = os.environ.get(\"API_KEY\")\n",
    "API_SECRET_KEY = os.environ.get(\"API_SECRET_KEY\")\n",
    "ACCESS_TOKEN = os.environ.get(\"ACCESS_TOKEN\")\n",
    "ACCESS_TOKEN_SECRET = os.environ.get(\"ACCESS_TOKEN_SECRET\")\n",
    "FILE_PATH = os.environ.get(\"FILE_PATH\")\n",
    "\n",
    "client = tweepy.Client(\n",
    "    consumer_key=API_KEY,\n",
    "    consumer_secret=API_SECRET_KEY,\n",
    "    access_token=ACCESS_TOKEN,\n",
    "    access_token_secret=ACCESS_TOKEN_SECRET\n",
    ")"
   ]
  },
  {
   "cell_type": "markdown",
   "metadata": {
    "pycharm": {
     "name": "#%% md\n"
    }
   },
   "source": [
    "# Building Dataframes"
   ]
  },
  {
   "cell_type": "markdown",
   "metadata": {
    "pycharm": {
     "name": "#%% md\n"
    }
   },
   "source": [
    "Having the tweepy configured properly, we can now start building the working dataframes before we move on to the data preparation and to the following stages. From now on, all the procedures applied to the train data will also be applied to the test data, which means we'll just refer to them as procedures on the data as a whole.\n",
    "\n",
    "The following code snippets loads the data from the train and test JSON files into lists, one that holds the tweets ids and the corresponding categories and the other one just the tweets ids."
   ]
  },
  {
   "cell_type": "code",
   "execution_count": 4,
   "metadata": {
    "pycharm": {
     "name": "#%%\n"
    }
   },
   "outputs": [],
   "source": [
    "with open(FILE_PATH + 'train.jsonl', 'r') as json_file:\n",
    "    json_train = list(json_file)\n",
    "\n",
    "with open(FILE_PATH + 'test.jsonl', 'r') as json_file:\n",
    "    json_test = list(json_file)"
   ]
  },
  {
   "cell_type": "code",
   "execution_count": 5,
   "metadata": {
    "pycharm": {
     "name": "#%%\n"
    }
   },
   "outputs": [],
   "source": [
    "def get_category(categories):\n",
    "    if categories['Reject'] > 0:\n",
    "        return 'Reject'\n",
    "    elif categories['Accept'] > 0:\n",
    "        return 'Accept'\n",
    "    elif categories['Not Relevant'] >= categories['No Stance']:\n",
    "        return 'Not Relevant'\n",
    "    else:\n",
    "        return 'No Stance'"
   ]
  },
  {
   "cell_type": "code",
   "execution_count": 6,
   "metadata": {
    "pycharm": {
     "name": "#%%\n"
    }
   },
   "outputs": [],
   "source": [
    "train_ids = []\n",
    "categories_train = []\n",
    "for json_str in json_train:\n",
    "    categories = {\"Accept\":0, \"Reject\":0, \"No Stance\":0, \"Not Relevant\":0}\n",
    "    dataset_ids = json.loads(json_str)\n",
    "    for key, value in dataset_ids['misinfo'].items():\n",
    "        categories[value] = categories[value] + 1\n",
    "    train_ids.append(dataset_ids['id'])\n",
    "    categories_train.append([dataset_ids['id'], get_category(categories)])\n",
    "\n",
    "test_ids = []\n",
    "categories_test = []\n",
    "for json_str in json_test:\n",
    "    categories = {\"Accept\":0, \"Reject\":0, \"No Stance\":0, \"Not Relevant\":0}\n",
    "    dataset_ids = json.loads(json_str)\n",
    "    for key, value in dataset_ids['misinfo'].items():\n",
    "        categories[value] = categories[value] + 1\n",
    "    test_ids.append(dataset_ids['id'])\n",
    "    categories_test.append([dataset_ids['id'], get_category(categories)])"
   ]
  },
  {
   "cell_type": "code",
   "execution_count": 7,
   "metadata": {
    "pycharm": {
     "name": "#%%\n"
    }
   },
   "outputs": [],
   "source": [
    "test_ids = [test_ids[i: i + 100] for i in range(0, len(test_ids), 100)]\n",
    "\n",
    "train_ids = [train_ids[i: i + 100] for i in range(0, len(train_ids), 100)]"
   ]
  },
  {
   "cell_type": "markdown",
   "metadata": {
    "pycharm": {
     "name": "#%% md\n"
    }
   },
   "source": [
    "The following code uses the function ```get_tweets``` from tweepy to get the tweets content by id, from the JSON files, retrieving also the name, username, user id and the flag verified (true if the author of the tweet has the account verified by Twitter) associated with each tweet. The information regarding the tweets content is stored in a separate list from the one containing the users information."
   ]
  },
  {
   "cell_type": "code",
   "execution_count": 8,
   "metadata": {
    "pycharm": {
     "name": "#%%\n"
    }
   },
   "outputs": [],
   "source": [
    "responses_ts_train = []\n",
    "for tweet_id in train_ids:\n",
    "    tweets = client.get_tweets(ids=tweet_id, user_auth=True, tweet_fields=['created_at'])\n",
    "    for tweet in tweets[0]:\n",
    "        responses_ts_train.append([tweet.id, tweet.text, tweet.created_at])"
   ]
  },
  {
   "cell_type": "code",
   "execution_count": 9,
   "metadata": {
    "pycharm": {
     "name": "#%%\n"
    }
   },
   "outputs": [],
   "source": [
    "responses_ts_test = []\n",
    "for tweet_id in test_ids:\n",
    "    tweets = client.get_tweets(ids=tweet_id, user_auth=True, tweet_fields=['created_at'])\n",
    "    for tweet in tweets[0]:\n",
    "        responses_ts_test.append([tweet.id, tweet.text, tweet.created_at])"
   ]
  },
  {
   "cell_type": "code",
   "execution_count": 10,
   "metadata": {
    "pycharm": {
     "name": "#%%\n"
    }
   },
   "outputs": [],
   "source": [
    "responses_train = []\n",
    "users_train = []\n",
    "for tweet_id in train_ids:\n",
    "    tweets = client.get_tweets(ids=tweet_id, user_auth=True, user_fields=['name', 'username', 'verified', 'id'], expansions=\"author_id\")\n",
    "    for tweet in tweets[0]:\n",
    "        responses_train.append([tweet.id, tweet.text, tweet.author_id])\n",
    "    for user in tweets[1]['users']:\n",
    "        users_train.append([user.id, user.name, user.username, user.verified])"
   ]
  },
  {
   "cell_type": "code",
   "execution_count": 11,
   "metadata": {
    "pycharm": {
     "name": "#%%\n"
    }
   },
   "outputs": [],
   "source": [
    "responses_test = []\n",
    "users_test = []\n",
    "for tweet_id in test_ids:\n",
    "    tweets = client.get_tweets(ids=tweet_id, user_auth=True, user_fields=['name', 'username', 'verified', 'id'], expansions=\"author_id\")\n",
    "    for tweet in tweets[0]:\n",
    "        responses_test.append([tweet.id, tweet.text, tweet.author_id])\n",
    "    for user in tweets[1]['users']:\n",
    "        users_test.append([user.id, user.name, user.username, user.verified])"
   ]
  },
  {
   "cell_type": "markdown",
   "metadata": {
    "pycharm": {
     "name": "#%% md\n"
    }
   },
   "source": [
    "## TIME SERIES DATA"
   ]
  },
  {
   "cell_type": "code",
   "execution_count": 12,
   "metadata": {
    "pycharm": {
     "name": "#%%\n"
    }
   },
   "outputs": [],
   "source": [
    "ts_data = pd.read_csv('../datasets/country_vaccinations.csv')"
   ]
  },
  {
   "cell_type": "code",
   "execution_count": 13,
   "metadata": {
    "pycharm": {
     "name": "#%%\n"
    }
   },
   "outputs": [],
   "source": [
    "ts_data.drop(columns=['total_vaccinations','daily_vaccinations_raw','people_vaccinated','people_fully_vaccinated','people_vaccinated_per_hundred','people_fully_vaccinated_per_hundred','total_vaccinations_per_hundred','vaccines','source_name','source_website'], inplace=True)"
   ]
  },
  {
   "cell_type": "code",
   "execution_count": 14,
   "metadata": {
    "pycharm": {
     "name": "#%%\n"
    }
   },
   "outputs": [],
   "source": [
    "ts_data.dropna(subset=['daily_vaccinations'], axis=0, inplace=True)"
   ]
  },
  {
   "cell_type": "code",
   "execution_count": 15,
   "metadata": {
    "pycharm": {
     "name": "#%%\n"
    }
   },
   "outputs": [],
   "source": [
    "ts_data['date'] = pd.to_datetime(ts_data['date'])"
   ]
  },
  {
   "cell_type": "code",
   "execution_count": 16,
   "metadata": {
    "pycharm": {
     "name": "#%%\n"
    }
   },
   "outputs": [],
   "source": [
    "ts_data['date'] = ts_data['date'].dt.date"
   ]
  },
  {
   "cell_type": "markdown",
   "metadata": {
    "pycharm": {
     "name": "#%% md\n"
    }
   },
   "source": [
    "Then, the three lists previously created, one for the tweets content, another for the users and another for the categories are converted into dataframes and merged right after through the common attributes. A conversion of the common columns was made to avoid problems of type incompatibility at a later stage (i.e. on the merge)."
   ]
  },
  {
   "cell_type": "code",
   "execution_count": 17,
   "metadata": {
    "pycharm": {
     "name": "#%%\n"
    }
   },
   "outputs": [],
   "source": [
    "responses_train = pd.DataFrame(responses_train, columns = ['TweetID', 'Tweet', 'AuthorID'])\n",
    "responses_test = pd.DataFrame(responses_test, columns = ['TweetID', 'Tweet', 'AuthorID'])\n",
    "\n",
    "users_train = pd.DataFrame(users_train, columns = ['AuthorID', 'Name', 'Username', 'Verified'])\n",
    "users_test = pd.DataFrame(users_test, columns = ['AuthorID', 'Name', 'Username', 'Verified'])\n",
    "\n",
    "categories_train = pd.DataFrame(categories_train, columns = ['TweetID', 'Category'])\n",
    "categories_test = pd.DataFrame(categories_test, columns = ['TweetID', 'Category'])\n",
    "\n",
    "ts_train = pd.DataFrame(responses_ts_train, columns = ['TweetID', 'Tweet', 'Date'])\n",
    "ts_test = pd.DataFrame(responses_ts_test, columns = ['TweetID', 'Tweet', 'Date'])"
   ]
  },
  {
   "cell_type": "code",
   "execution_count": 18,
   "metadata": {
    "pycharm": {
     "name": "#%%\n"
    }
   },
   "outputs": [],
   "source": [
    "responses_train['TweetID'] = responses_train['TweetID'].astype(str)\n",
    "responses_test['TweetID'] = responses_test['TweetID'].astype(str)\n",
    "responses_train['AuthorID'] = responses_train['AuthorID'].astype(str)\n",
    "responses_test['AuthorID'] = responses_test['AuthorID'].astype(str)\n",
    "\n",
    "users_train['AuthorID'] = users_train['AuthorID'].astype(str)\n",
    "users_test['AuthorID'] = users_test['AuthorID'].astype(str)\n",
    "\n",
    "categories_train['TweetID'] = categories_train['TweetID'].astype(str)\n",
    "categories_test['TweetID'] = categories_test['TweetID'].astype(str)\n",
    "\n",
    "ts_train['TweetID'] = ts_train['TweetID'].astype(str)\n",
    "ts_test['TweetID'] = ts_test['TweetID'].astype(str)"
   ]
  },
  {
   "cell_type": "code",
   "execution_count": 19,
   "metadata": {
    "pycharm": {
     "name": "#%%\n"
    }
   },
   "outputs": [],
   "source": [
    "df_train = pd.merge(responses_train, users_train, on='AuthorID', how='outer')\n",
    "df_train = pd.merge(df_train, categories_train, on='TweetID', how='outer')\n",
    "\n",
    "df_test = pd.merge(responses_test, users_test, on='AuthorID', how='outer')\n",
    "df_test = pd.merge(df_test, categories_test, on='TweetID', how='outer')\n",
    "\n",
    "ts_final_train = pd.merge(ts_train, categories_train, on='TweetID', how='outer')\n",
    "ts_final_test = pd.merge(ts_test, categories_test, on='TweetID', how='outer')"
   ]
  },
  {
   "cell_type": "code",
   "execution_count": 20,
   "metadata": {
    "pycharm": {
     "name": "#%%\n"
    }
   },
   "outputs": [],
   "source": [
    "ts_final_train['Date'] = pd.to_datetime(ts_final_train['Date']).dt.date"
   ]
  },
  {
   "cell_type": "code",
   "execution_count": 21,
   "metadata": {
    "pycharm": {
     "name": "#%%\n"
    }
   },
   "outputs": [],
   "source": [
    "ts_final_test['Date'] = pd.to_datetime(ts_final_test['Date']).dt.date"
   ]
  },
  {
   "cell_type": "code",
   "execution_count": 22,
   "metadata": {
    "pycharm": {
     "name": "#%%\n"
    }
   },
   "outputs": [],
   "source": [
    "ts_final_train.dropna(subset=['Tweet'], axis=0, inplace=True)"
   ]
  },
  {
   "cell_type": "code",
   "execution_count": 23,
   "metadata": {
    "pycharm": {
     "name": "#%%\n"
    }
   },
   "outputs": [],
   "source": [
    "ts_final_test.dropna(subset=['Tweet'], axis=0, inplace=True)"
   ]
  },
  {
   "cell_type": "code",
   "execution_count": 24,
   "metadata": {
    "pycharm": {
     "name": "#%%\n"
    }
   },
   "outputs": [],
   "source": [
    "ts_final_train.drop(columns=['TweetID', 'Tweet'], inplace=True)"
   ]
  },
  {
   "cell_type": "code",
   "execution_count": 25,
   "metadata": {
    "pycharm": {
     "name": "#%%\n"
    }
   },
   "outputs": [],
   "source": [
    "ts_final_test.drop(columns=['TweetID', 'Tweet'], inplace=True)"
   ]
  },
  {
   "cell_type": "code",
   "execution_count": 26,
   "metadata": {
    "pycharm": {
     "name": "#%%\n"
    }
   },
   "outputs": [],
   "source": [
    "ts_final_train.sort_values(by='Date', inplace=True)"
   ]
  },
  {
   "cell_type": "code",
   "execution_count": 27,
   "metadata": {
    "pycharm": {
     "name": "#%%\n"
    }
   },
   "outputs": [],
   "source": [
    "ts_final_test.sort_values(by='Date', inplace=True)"
   ]
  },
  {
   "cell_type": "code",
   "execution_count": 28,
   "metadata": {
    "pycharm": {
     "name": "#%%\n"
    }
   },
   "outputs": [],
   "source": [
    "ts_data = ts_data.loc[(ts_data['date'] >= ts_final_train['Date'].min()) & (ts_data['date'] <= ts_final_train['Date'].max())]"
   ]
  },
  {
   "cell_type": "code",
   "execution_count": 29,
   "metadata": {
    "pycharm": {
     "name": "#%%\n"
    }
   },
   "outputs": [],
   "source": [
    "ts_data.sort_values(by='date', inplace=True)"
   ]
  },
  {
   "cell_type": "code",
   "execution_count": 30,
   "metadata": {
    "pycharm": {
     "name": "#%%\n"
    }
   },
   "outputs": [],
   "source": [
    "ts_data.rename(columns={'date': 'Date'}, inplace=True)"
   ]
  },
  {
   "cell_type": "code",
   "execution_count": 31,
   "metadata": {
    "pycharm": {
     "name": "#%%\n"
    }
   },
   "outputs": [],
   "source": [
    "ts_data.drop(columns=['country','iso_code','daily_vaccinations'],inplace=True)"
   ]
  },
  {
   "cell_type": "code",
   "execution_count": 32,
   "metadata": {
    "pycharm": {
     "name": "#%%\n"
    }
   },
   "outputs": [],
   "source": [
    "def sumTotal(lista):\n",
    "    accept = 0\n",
    "    reject = 0\n",
    "    total = 0\n",
    "    new_list_accepts = []\n",
    "    new_list_rejects = []\n",
    "    aux = lista[0][0]\n",
    "    for i in lista:\n",
    "        if i[0] == aux:\n",
    "            if i[1] == 'Accept':\n",
    "                accept = accept + 1\n",
    "                total = total + 1\n",
    "            elif i[1] == 'Reject':\n",
    "                reject = reject + 1\n",
    "                total = total + 1\n",
    "            else:\n",
    "                total = total + 1\n",
    "                pass\n",
    "        else:\n",
    "            new_list_accepts.append([aux, accept/total * 100])\n",
    "            new_list_rejects.append([aux, reject/total * 100])\n",
    "            accept = 0\n",
    "            reject = 0\n",
    "            total = 0\n",
    "            aux = i[0]\n",
    "            if i[1] == 'Accept':\n",
    "                accept = accept + 1\n",
    "                total = total + 1\n",
    "            elif i[1] == 'Reject':\n",
    "                reject = reject + 1\n",
    "                total = total + 1\n",
    "            else:\n",
    "                total = total + 1\n",
    "                pass\n",
    "\n",
    "    new_list_accepts.append([aux, accept/total * 100])\n",
    "    new_list_rejects.append([aux, reject/total * 100])\n",
    "\n",
    "    return new_list_accepts, new_list_rejects"
   ]
  },
  {
   "cell_type": "code",
   "execution_count": 33,
   "metadata": {
    "pycharm": {
     "name": "#%%\n"
    }
   },
   "outputs": [],
   "source": [
    "def sumVaccinations(lista):\n",
    "    total = 0;\n",
    "    aux = lista[0][0]\n",
    "    total_lista = []\n",
    "    for l in lista:\n",
    "        if l[0] == aux:\n",
    "            total = total + l[1]\n",
    "        else:\n",
    "            total_lista.append([aux, total])\n",
    "            total = 0\n",
    "            aux = l[0]\n",
    "\n",
    "    total_lista.append([aux, total])\n",
    "\n",
    "    return total_lista"
   ]
  },
  {
   "cell_type": "code",
   "execution_count": 34,
   "metadata": {
    "pycharm": {
     "name": "#%%\n"
    }
   },
   "outputs": [],
   "source": [
    "accept_train,reject_train = sumTotal(ts_final_train.values.tolist())"
   ]
  },
  {
   "cell_type": "code",
   "execution_count": 35,
   "metadata": {
    "pycharm": {
     "name": "#%%\n"
    }
   },
   "outputs": [],
   "source": [
    "accept_test,reject_test = sumTotal(ts_final_test.values.tolist())"
   ]
  },
  {
   "cell_type": "code",
   "execution_count": 36,
   "metadata": {
    "pycharm": {
     "name": "#%%\n"
    }
   },
   "outputs": [],
   "source": [
    "accept_train_final = pd.DataFrame(accept_train, columns = ['Date', 'Accept'])"
   ]
  },
  {
   "cell_type": "code",
   "execution_count": 37,
   "metadata": {
    "pycharm": {
     "name": "#%%\n"
    }
   },
   "outputs": [],
   "source": [
    "reject_train_final = pd.DataFrame(reject_train, columns = ['Date', 'Reject'])"
   ]
  },
  {
   "cell_type": "code",
   "execution_count": 38,
   "metadata": {
    "pycharm": {
     "name": "#%%\n"
    }
   },
   "outputs": [],
   "source": [
    "accept_test_final = pd.DataFrame(accept_test, columns = ['Date', 'Accept'])"
   ]
  },
  {
   "cell_type": "code",
   "execution_count": 39,
   "metadata": {
    "pycharm": {
     "name": "#%%\n"
    }
   },
   "outputs": [],
   "source": [
    "reject_test_final = pd.DataFrame(reject_test, columns = ['Date', 'Reject'])"
   ]
  },
  {
   "cell_type": "code",
   "execution_count": 40,
   "metadata": {
    "pycharm": {
     "name": "#%%\n"
    }
   },
   "outputs": [],
   "source": [
    "ts_train_final = pd.merge(accept_train_final, reject_train_final, on='Date', how='outer')"
   ]
  },
  {
   "cell_type": "code",
   "execution_count": 41,
   "metadata": {
    "pycharm": {
     "name": "#%%\n"
    }
   },
   "outputs": [],
   "source": [
    "ts_test_final = pd.merge(accept_test_final, reject_test_final, on='Date', how='outer')"
   ]
  },
  {
   "cell_type": "code",
   "execution_count": 42,
   "metadata": {
    "pycharm": {
     "name": "#%%\n"
    }
   },
   "outputs": [],
   "source": [
    "ts_data_list = sumVaccinations(ts_data.values.tolist())"
   ]
  },
  {
   "cell_type": "code",
   "execution_count": 43,
   "metadata": {
    "pycharm": {
     "name": "#%%\n"
    }
   },
   "outputs": [],
   "source": [
    "ts_data_list = pd.DataFrame(ts_data_list, columns=['Date', 'Daily Vaccinations'])"
   ]
  },
  {
   "cell_type": "code",
   "execution_count": 44,
   "metadata": {
    "pycharm": {
     "name": "#%%\n"
    }
   },
   "outputs": [],
   "source": [
    "train_final = pd.merge(ts_train_final, ts_data_list, on='Date', how='outer')"
   ]
  },
  {
   "cell_type": "code",
   "execution_count": 45,
   "metadata": {
    "pycharm": {
     "name": "#%%\n"
    }
   },
   "outputs": [],
   "source": [
    "train_final.dropna(subset='Accept',axis=0, inplace=True)"
   ]
  },
  {
   "cell_type": "code",
   "execution_count": 46,
   "metadata": {
    "pycharm": {
     "name": "#%%\n"
    }
   },
   "outputs": [],
   "source": [
    "train_final['Date'] = pd.to_datetime(train_final['Date'])"
   ]
  },
  {
   "cell_type": "code",
   "execution_count": 47,
   "metadata": {
    "pycharm": {
     "name": "#%%\n"
    }
   },
   "outputs": [
    {
     "data": {
      "image/png": "[encoded data removed]",
      "text/plain": [
       "<Figure size 576x576 with 2 Axes>"
      ]
     },
     "metadata": {
      "needs_background": "light"
     },
     "output_type": "display_data"
    }
   ],
   "source": [
    "fig, ax1 = plt.subplots(figsize=(8, 8))\n",
    "ax2 = ax1.twinx()\n",
    "\n",
    "ax1.bar(train_final['Date'], train_final['Daily Vaccinations'])\n",
    "ax2.plot(train_final['Date'], train_final['Accept'], \"g\", lw=2, label='Accept')\n",
    "\n",
    "ax1.set_xlabel(\"Date\")\n",
    "ax1.set_ylabel(\"#\", fontsize=14)\n",
    "\n",
    "ax2.set_ylabel(\"%\", fontsize=14)\n",
    "\n",
    "fig.autofmt_xdate()\n",
    "fig.suptitle(\"Time series\", fontsize=20);"
   ]
  },
  {
   "cell_type": "code",
   "execution_count": 48,
   "metadata": {
    "pycharm": {
     "name": "#%%\n"
    }
   },
   "outputs": [
    {
     "data": {
      "image/png": "[encoded data removed]",
      "text/plain": [
       "<Figure size 576x576 with 2 Axes>"
      ]
     },
     "metadata": {
      "needs_background": "light"
     },
     "output_type": "display_data"
    }
   ],
   "source": [
    "fig, ax1 = plt.subplots(figsize=(8, 8))\n",
    "ax2 = ax1.twinx()\n",
    "\n",
    "ax1.bar(train_final['Date'], train_final['Daily Vaccinations'])\n",
    "ax2.plot(train_final['Date'], train_final['Reject'], \"r-\" ,lw=2, label='Reject')\n",
    "\n",
    "ax1.set_xlabel(\"Date\")\n",
    "ax1.set_ylabel(\"#\", fontsize=14)\n",
    "\n",
    "ax2.set_ylabel(\"%\", fontsize=14)\n",
    "\n",
    "fig.autofmt_xdate()\n",
    "fig.suptitle(\"Time series\", fontsize=20);"
   ]
  },
  {
   "cell_type": "code",
   "execution_count": 49,
   "metadata": {
    "pycharm": {
     "name": "#%%\n"
    }
   },
   "outputs": [],
   "source": [
    "test_final = pd.merge(ts_test_final, ts_data_list, on='Date', how='outer')"
   ]
  },
  {
   "cell_type": "code",
   "execution_count": 50,
   "metadata": {
    "pycharm": {
     "name": "#%%\n"
    }
   },
   "outputs": [],
   "source": [
    "test_final.dropna(subset='Accept',axis=0, inplace=True)"
   ]
  },
  {
   "cell_type": "code",
   "execution_count": 51,
   "metadata": {
    "pycharm": {
     "name": "#%%\n"
    }
   },
   "outputs": [],
   "source": [
    "test_final['Date'] = pd.to_datetime(test_final['Date'])"
   ]
  },
  {
   "cell_type": "code",
   "execution_count": 52,
   "metadata": {
    "pycharm": {
     "name": "#%%\n"
    }
   },
   "outputs": [
    {
     "data": {
      "image/png": "[encoded data removed]",
      "text/plain": [
       "<Figure size 576x576 with 2 Axes>"
      ]
     },
     "metadata": {
      "needs_background": "light"
     },
     "output_type": "display_data"
    }
   ],
   "source": [
    "fig, ax1 = plt.subplots(figsize=(8, 8))\n",
    "ax2 = ax1.twinx()\n",
    "\n",
    "ax1.bar(train_final['Date'], train_final['Daily Vaccinations'])\n",
    "ax2.plot(test_final['Date'], test_final['Accept'], \"g\",lw=2, label='Accept')\n",
    "\n",
    "ax1.set_xlabel(\"Date\")\n",
    "ax1.set_ylabel(\"#\", fontsize=14)\n",
    "\n",
    "ax2.set_ylabel(\"%\", fontsize=14)\n",
    "\n",
    "fig.autofmt_xdate()\n",
    "fig.suptitle(\"Time series\", fontsize=20);"
   ]
  },
  {
   "cell_type": "code",
   "execution_count": 53,
   "metadata": {
    "pycharm": {
     "name": "#%%\n"
    }
   },
   "outputs": [
    {
     "data": {
      "image/png": "[encoded data removed]",
      "text/plain": [
       "<Figure size 576x576 with 2 Axes>"
      ]
     },
     "metadata": {
      "needs_background": "light"
     },
     "output_type": "display_data"
    }
   ],
   "source": [
    "fig, ax1 = plt.subplots(figsize=(8, 8))\n",
    "ax2 = ax1.twinx()\n",
    "\n",
    "ax1.bar(train_final['Date'], train_final['Daily Vaccinations'])\n",
    "ax2.plot(test_final['Date'], test_final['Reject'], \"r-\", lw=2, label='Reject')\n",
    "\n",
    "ax1.set_xlabel(\"Date\")\n",
    "ax1.set_ylabel(\"#\", fontsize=14)\n",
    "\n",
    "ax2.set_ylabel(\"%\", fontsize=14)\n",
    "\n",
    "fig.autofmt_xdate()\n",
    "fig.suptitle(\"Time series\", fontsize=20);"
   ]
  },
  {
   "cell_type": "markdown",
   "metadata": {
    "pycharm": {
     "name": "#%% md\n"
    }
   },
   "source": [
    "Before we drop the TweetID column, we check how many unique tweets we have in each dataframe."
   ]
  },
  {
   "cell_type": "code",
   "execution_count": 54,
   "metadata": {
    "pycharm": {
     "name": "#%%\n"
    }
   },
   "outputs": [
    {
     "data": {
      "text/plain": [
       "False"
      ]
     },
     "execution_count": 54,
     "metadata": {},
     "output_type": "execute_result"
    }
   ],
   "source": [
    "df_train['TweetID'].is_unique"
   ]
  },
  {
   "cell_type": "code",
   "execution_count": 55,
   "metadata": {
    "pycharm": {
     "name": "#%%\n"
    }
   },
   "outputs": [
    {
     "data": {
      "text/plain": [
       "False"
      ]
     },
     "execution_count": 55,
     "metadata": {},
     "output_type": "execute_result"
    }
   ],
   "source": [
    "df_test['TweetID'].is_unique"
   ]
  },
  {
   "cell_type": "markdown",
   "metadata": {
    "pycharm": {
     "name": "#%% md\n"
    }
   },
   "source": [
    "Having know only two dataframes, one for test and another one for train, we drop the useless columns with the IDs of the Tweets and the Authors of them."
   ]
  },
  {
   "cell_type": "code",
   "execution_count": 56,
   "metadata": {
    "pycharm": {
     "name": "#%%\n"
    }
   },
   "outputs": [],
   "source": [
    "df_train = df_train.drop(columns=['TweetID', 'AuthorID'], axis=1)\n",
    "df_test = df_test.drop(columns=['TweetID', 'AuthorID'], axis=1)"
   ]
  },
  {
   "cell_type": "markdown",
   "metadata": {
    "pycharm": {
     "name": "#%% md\n"
    }
   },
   "source": [
    "This is the final version of the dataframes for train and test before the data analysis phase."
   ]
  },
  {
   "cell_type": "code",
   "execution_count": 57,
   "metadata": {
    "pycharm": {
     "name": "#%%\n"
    }
   },
   "outputs": [
    {
     "data": {
      "text/html": [
       "<div>\n",
       "<style scoped>\n",
       "    .dataframe tbody tr th:only-of-type {\n",
       "        vertical-align: middle;\n",
       "    }\n",
       "\n",
       "    .dataframe tbody tr th {\n",
       "        vertical-align: top;\n",
       "    }\n",
       "\n",
       "    .dataframe thead th {\n",
       "        text-align: right;\n",
       "    }\n",
       "</style>\n",
       "<table border=\"1\" class=\"dataframe\">\n",
       "  <thead>\n",
       "    <tr style=\"text-align: right;\">\n",
       "      <th></th>\n",
       "      <th>Tweet</th>\n",
       "      <th>Name</th>\n",
       "      <th>Username</th>\n",
       "      <th>Verified</th>\n",
       "      <th>Category</th>\n",
       "    </tr>\n",
       "  </thead>\n",
       "  <tbody>\n",
       "    <tr>\n",
       "      <th>0</th>\n",
       "      <td>@nytimes There are side effects of this inject...</td>\n",
       "      <td>mary podlesak</td>\n",
       "      <td>MaryPodlesak</td>\n",
       "      <td>False</td>\n",
       "      <td>No Stance</td>\n",
       "    </tr>\n",
       "    <tr>\n",
       "      <th>1</th>\n",
       "      <td>@nytimes There are side effects of this inject...</td>\n",
       "      <td>mary podlesak</td>\n",
       "      <td>MaryPodlesak</td>\n",
       "      <td>False</td>\n",
       "      <td>No Stance</td>\n",
       "    </tr>\n",
       "    <tr>\n",
       "      <th>2</th>\n",
       "      <td>Religious Exemption to the Covid 19 vaccine ma...</td>\n",
       "      <td>mary podlesak</td>\n",
       "      <td>MaryPodlesak</td>\n",
       "      <td>False</td>\n",
       "      <td>No Stance</td>\n",
       "    </tr>\n",
       "    <tr>\n",
       "      <th>3</th>\n",
       "      <td>Religious Exemption to the Covid 19 vaccine ma...</td>\n",
       "      <td>mary podlesak</td>\n",
       "      <td>MaryPodlesak</td>\n",
       "      <td>False</td>\n",
       "      <td>No Stance</td>\n",
       "    </tr>\n",
       "    <tr>\n",
       "      <th>4</th>\n",
       "      <td>Moderna seeks FDA emergency use authorization ...</td>\n",
       "      <td>isirv antiviral</td>\n",
       "      <td>isirvAVG</td>\n",
       "      <td>False</td>\n",
       "      <td>Reject</td>\n",
       "    </tr>\n",
       "  </tbody>\n",
       "</table>\n",
       "</div>"
      ],
      "text/plain": [
       "                                               Tweet             Name  \\\n",
       "0  @nytimes There are side effects of this inject...    mary podlesak   \n",
       "1  @nytimes There are side effects of this inject...    mary podlesak   \n",
       "2  Religious Exemption to the Covid 19 vaccine ma...    mary podlesak   \n",
       "3  Religious Exemption to the Covid 19 vaccine ma...    mary podlesak   \n",
       "4  Moderna seeks FDA emergency use authorization ...  isirv antiviral   \n",
       "\n",
       "       Username Verified   Category  \n",
       "0  MaryPodlesak    False  No Stance  \n",
       "1  MaryPodlesak    False  No Stance  \n",
       "2  MaryPodlesak    False  No Stance  \n",
       "3  MaryPodlesak    False  No Stance  \n",
       "4      isirvAVG    False     Reject  "
      ]
     },
     "execution_count": 57,
     "metadata": {},
     "output_type": "execute_result"
    }
   ],
   "source": [
    "df_train.head()"
   ]
  },
  {
   "cell_type": "code",
   "execution_count": 58,
   "metadata": {
    "pycharm": {
     "name": "#%%\n"
    }
   },
   "outputs": [
    {
     "data": {
      "text/html": [
       "<div>\n",
       "<style scoped>\n",
       "    .dataframe tbody tr th:only-of-type {\n",
       "        vertical-align: middle;\n",
       "    }\n",
       "\n",
       "    .dataframe tbody tr th {\n",
       "        vertical-align: top;\n",
       "    }\n",
       "\n",
       "    .dataframe thead th {\n",
       "        text-align: right;\n",
       "    }\n",
       "</style>\n",
       "<table border=\"1\" class=\"dataframe\">\n",
       "  <thead>\n",
       "    <tr style=\"text-align: right;\">\n",
       "      <th></th>\n",
       "      <th>Tweet</th>\n",
       "      <th>Name</th>\n",
       "      <th>Username</th>\n",
       "      <th>Verified</th>\n",
       "      <th>Category</th>\n",
       "    </tr>\n",
       "  </thead>\n",
       "  <tbody>\n",
       "    <tr>\n",
       "      <th>0</th>\n",
       "      <td>@donutsdebsdibs @VFreedoms The fact that 99.99...</td>\n",
       "      <td>Anyway, moving on..</td>\n",
       "      <td>anywaymovingon</td>\n",
       "      <td>False</td>\n",
       "      <td>Accept</td>\n",
       "    </tr>\n",
       "    <tr>\n",
       "      <th>1</th>\n",
       "      <td>@OceanEyes50 I have a 99.55% chance of survivi...</td>\n",
       "      <td>🇺🇸David Son of Liberty🇺🇸</td>\n",
       "      <td>DavidLiberty76</td>\n",
       "      <td>False</td>\n",
       "      <td>Accept</td>\n",
       "    </tr>\n",
       "    <tr>\n",
       "      <th>2</th>\n",
       "      <td>While getting COVID-19 may offer some natural ...</td>\n",
       "      <td>USA Healthcare</td>\n",
       "      <td>USAHealthcareAL</td>\n",
       "      <td>False</td>\n",
       "      <td>No Stance</td>\n",
       "    </tr>\n",
       "    <tr>\n",
       "      <th>3</th>\n",
       "      <td>Has @ArvindKejriwal entered into Contract to b...</td>\n",
       "      <td>Pawan Kumar Aggarwal</td>\n",
       "      <td>aggarwal1953</td>\n",
       "      <td>False</td>\n",
       "      <td>Not Relevant</td>\n",
       "    </tr>\n",
       "    <tr>\n",
       "      <th>4</th>\n",
       "      <td>News: Statement from NIH and BARDA on the FDA ...</td>\n",
       "      <td>NIH</td>\n",
       "      <td>NIH</td>\n",
       "      <td>True</td>\n",
       "      <td>No Stance</td>\n",
       "    </tr>\n",
       "  </tbody>\n",
       "</table>\n",
       "</div>"
      ],
      "text/plain": [
       "                                               Tweet  \\\n",
       "0  @donutsdebsdibs @VFreedoms The fact that 99.99...   \n",
       "1  @OceanEyes50 I have a 99.55% chance of survivi...   \n",
       "2  While getting COVID-19 may offer some natural ...   \n",
       "3  Has @ArvindKejriwal entered into Contract to b...   \n",
       "4  News: Statement from NIH and BARDA on the FDA ...   \n",
       "\n",
       "                       Name         Username Verified      Category  \n",
       "0       Anyway, moving on..   anywaymovingon    False        Accept  \n",
       "1  🇺🇸David Son of Liberty🇺🇸   DavidLiberty76    False        Accept  \n",
       "2            USA Healthcare  USAHealthcareAL    False     No Stance  \n",
       "3      Pawan Kumar Aggarwal     aggarwal1953    False  Not Relevant  \n",
       "4                       NIH              NIH     True     No Stance  "
      ]
     },
     "execution_count": 58,
     "metadata": {},
     "output_type": "execute_result"
    }
   ],
   "source": [
    "df_test.head()"
   ]
  },
  {
   "cell_type": "markdown",
   "metadata": {
    "pycharm": {
     "name": "#%% md\n"
    }
   },
   "source": [
    "# Data Preparation"
   ]
  },
  {
   "cell_type": "markdown",
   "metadata": {
    "pycharm": {
     "name": "#%% md\n"
    }
   },
   "source": [
    "To start the data preparation phase, we drop the duplicates from both datasets."
   ]
  },
  {
   "cell_type": "code",
   "execution_count": 59,
   "metadata": {
    "pycharm": {
     "name": "#%%\n"
    }
   },
   "outputs": [],
   "source": [
    "df_train.drop_duplicates(inplace=True)\n",
    "df_test.drop_duplicates(inplace=True)"
   ]
  },
  {
   "cell_type": "markdown",
   "metadata": {
    "pycharm": {
     "name": "#%% md\n"
    }
   },
   "source": [
    "## Word embeddings"
   ]
  },
  {
   "cell_type": "markdown",
   "metadata": {
    "pycharm": {
     "name": "#%% md\n"
    }
   },
   "source": [
    "GloVe (Global Vectors - Stanford University)\n",
    "\n",
    "Pretrained 300-dimensional GloVe embeddings trained on Wikipedia 2014 and Gigaword 5\n",
    "\n",
    "Source: https://www.geeksforgeeks.org/pre-trained-word-embedding-using-glove-in-nlp-models/"
   ]
  },
  {
   "cell_type": "code",
   "execution_count": 60,
   "metadata": {
    "pycharm": {
     "name": "#%%\n"
    }
   },
   "outputs": [],
   "source": [
    "# Download glove and unzip it in Notebook.\n",
    "if not os.path.exists('glove.6B.zip'):\n",
    "    filename = wget.download('http://nlp.stanford.edu/data/glove.6B.zip')\n",
    "    with zipfile.ZipFile(filename, 'r') as zip_ref:\n",
    "        zip_ref.extractall(\".\")"
   ]
  },
  {
   "cell_type": "code",
   "execution_count": 61,
   "metadata": {
    "pycharm": {
     "name": "#%%\n"
    }
   },
   "outputs": [],
   "source": [
    "# Embedding: 1->dense vector\n",
    "def embedding_for_vocab(filepath, word_index, embedding_dim):\n",
    "    vocab_size = len(word_index) + 1\n",
    "      \n",
    "    # Adding again 1 because of reserved 0 index\n",
    "    embedding_matrix_vocab = np.zeros((vocab_size,\n",
    "                                       embedding_dim))\n",
    "  \n",
    "    with open(filepath, encoding=\"utf8\") as f:\n",
    "        for line in f:\n",
    "            word, *vector = line.split()\n",
    "            if word in word_index:\n",
    "                idx = word_index[word]\n",
    "                embedding_matrix_vocab[idx] = np.array(\n",
    "                    vector, dtype=np.float32)[:embedding_dim]\n",
    "  \n",
    "    return embedding_matrix_vocab"
   ]
  },
  {
   "cell_type": "code",
   "execution_count": 62,
   "metadata": {
    "pycharm": {
     "name": "#%%\n"
    }
   },
   "outputs": [],
   "source": [
    "def create_dict(column1, column2):\n",
    "    tweets = column1.astype(str).to_list() + column2.astype(str).to_list()\n",
    "\n",
    "    # Dictionary creation\n",
    "    tokenizer = Tokenizer()\n",
    "    tokenizer.fit_on_texts(tweets)\n",
    "\n",
    "    return tokenizer"
   ]
  },
  {
   "cell_type": "code",
   "execution_count": 63,
   "metadata": {
    "pycharm": {
     "name": "#%%\n"
    }
   },
   "outputs": [],
   "source": [
    "def get_embeddings(column, tokenizer):    \n",
    "    # Getting the number of unique words in the dictionary\n",
    "    #print(\"Number of unique words in dictionary=\", len(tokenizer.word_index))\n",
    "    #print(\"Dictionary is = \", tokenizer.word_index)\n",
    "\n",
    "    # Matrix for vocab: word_index\n",
    "    embedding_dim = 300\n",
    "    embedding_matrix_vocab = embedding_for_vocab('./glove.6B.300d.txt', tokenizer.word_index, embedding_dim)\n",
    "\n",
    "    new_column = []\n",
    "    for entry in column:\n",
    "        entry = str(entry).split(' ')\n",
    "        new_entry = []\n",
    "        for word in entry:\n",
    "            if str(word) in tokenizer.word_index:\n",
    "                new_entry.append(sum(embedding_matrix_vocab[tokenizer.word_index[str(word)]]))\n",
    "            else: # Non-existent word in dictionary\n",
    "                new_entry.append(sum(embedding_matrix_vocab[0]))\n",
    "        new_column.append(new_entry)\n",
    "\n",
    "    return new_column"
   ]
  },
  {
   "cell_type": "markdown",
   "metadata": {
    "pycharm": {
     "name": "#%% md\n"
    }
   },
   "source": [
    "## Regular expression-based removal of special characters"
   ]
  },
  {
   "cell_type": "code",
   "execution_count": 64,
   "metadata": {
    "pycharm": {
     "name": "#%%\n"
    }
   },
   "outputs": [],
   "source": [
    "def re_removal(column):\n",
    "    re_removal_list = []\n",
    "    for entry in column:\n",
    "        cleaned = re.sub(\"[^a-zA-Z0-9']\",\" \",entry)\n",
    "        lowered = cleaned.lower()\n",
    "        re_removal_list.append(lowered.strip())\n",
    "    return re_removal_list"
   ]
  },
  {
   "cell_type": "markdown",
   "metadata": {
    "pycharm": {
     "name": "#%% md\n"
    }
   },
   "source": [
    "## Categorical to Numerical"
   ]
  },
  {
   "cell_type": "code",
   "execution_count": 65,
   "metadata": {
    "pycharm": {
     "name": "#%%\n"
    }
   },
   "outputs": [],
   "source": [
    "def categorial_to_numerical(column):\n",
    "    return pd.factorize(column)[0]"
   ]
  },
  {
   "cell_type": "markdown",
   "metadata": {
    "pycharm": {
     "name": "#%% md\n"
    }
   },
   "source": [
    "## NLTK Stop Words"
   ]
  },
  {
   "cell_type": "code",
   "execution_count": 66,
   "metadata": {
    "pycharm": {
     "name": "#%%\n"
    }
   },
   "outputs": [],
   "source": [
    "def remove_stopwords(column):\n",
    "    stopWords = set(stopwords.words('english'))\n",
    "    new_column = []\n",
    "    for value in column:\n",
    "        entry = ''\n",
    "        value = value.split(' ')\n",
    "        for word in value:\n",
    "            if word not in stopWords:\n",
    "                entry += word + \" \"\n",
    "        new_column.append(entry)\n",
    "    return new_column"
   ]
  },
  {
   "cell_type": "markdown",
   "metadata": {
    "pycharm": {
     "name": "#%% md\n"
    }
   },
   "source": [
    "## List column to multiple columns"
   ]
  },
  {
   "cell_type": "code",
   "execution_count": 67,
   "metadata": {
    "pycharm": {
     "name": "#%%\n"
    }
   },
   "outputs": [],
   "source": [
    "def multiple_columns(train_df, test_df):\n",
    "    max_train_tweet = 0\n",
    "    for tweet in train_df['Tweet']:\n",
    "        if len(tweet) > max_train_tweet:\n",
    "            max_train_tweet = len(tweet)\n",
    "\n",
    "    max_test_tweet = 0\n",
    "    for tweet in test_df['Tweet']:\n",
    "        if len(tweet) > max_test_tweet:\n",
    "            max_test_tweet = len(tweet)\n",
    "    '''\n",
    "    max_train_user = 0\n",
    "    for user in train_df['Name']:\n",
    "        if len(user) > max_train_user:\n",
    "            max_train_user = len(user)\n",
    "\n",
    "    max_test_user = 0\n",
    "    for user in test_df['Name']:\n",
    "        if len(user) > max_test_user:\n",
    "            max_test_user = len(user)\n",
    "    '''\n",
    "\n",
    "    len_train = len(df_train)\n",
    "    len_test = len(df_test)\n",
    "    \n",
    "    # train_df\n",
    "    verified_category = train_df.drop(columns=['Tweet', 'Name', 'Username', 'Category'], axis=1)\n",
    "\n",
    "    tweet_df = pd.DataFrame(train_df['Tweet'].values.tolist()).add_prefix('tweet')\n",
    "    #name_df = pd.DataFrame(train_df['Name'].values.tolist()).add_prefix('name')\n",
    "    #username_df = pd.DataFrame(train_df['Username'].values.tolist()).add_prefix('username')\n",
    "\n",
    "    tweet_df = tweet_df.fillna(0)\n",
    "    #name_df = name_df.fillna(0)\n",
    "    #username_df = username_df.fillna(0)\n",
    "\n",
    "    verified_category['Verified'] = verified_category['Verified'].astype('float64')\n",
    "\n",
    "    train_df = verified_category.join(tweet_df).fillna(0)\n",
    "\n",
    "    # test_df\n",
    "    verified_category = test_df.drop(columns=['Tweet', 'Name', 'Username', 'Category'], axis=1)\n",
    "\n",
    "    tweet_df = pd.DataFrame(test_df['Tweet'].values.tolist()).add_prefix('tweet')\n",
    "    #name_df = pd.DataFrame(test_df['Name'].values.tolist()).add_prefix('name')\n",
    "    #username_df = pd.DataFrame(test_df['Username'].values.tolist()).add_prefix('username')\n",
    "\n",
    "    tweet_df = tweet_df.fillna(0)\n",
    "    #name_df = name_df.fillna(0)\n",
    "    #username_df = username_df.fillna(0)\n",
    "\n",
    "    verified_category['Verified'] = verified_category['Verified'].astype('float64')\n",
    "\n",
    "    test_df = verified_category.join(tweet_df).fillna(0)\n",
    "\n",
    "    # add extra columns\n",
    "    if max_test_tweet == max_train_tweet:\n",
    "        pass\n",
    "    elif max_test_tweet > max_train_tweet:\n",
    "        diff = max_test_tweet-max_train_tweet\n",
    "        for i in range (0, diff):\n",
    "            colname = 'tweet' + str(max_train_tweet + i)\n",
    "            train_df[colname] = [0] * len_train\n",
    "    else:\n",
    "        diff = max_train_tweet-max_test_tweet\n",
    "        for i in range (0, diff):\n",
    "            colname = 'tweet' + str(max_test_tweet + i)\n",
    "            test_df[colname] = [0] * len_test\n",
    "    '''\n",
    "    if max_test_user == max_train_user:\n",
    "        pass\n",
    "    elif max_test_user > max_train_user:\n",
    "        diff = max_test_user-max_train_user\n",
    "        for i in range (0, diff):\n",
    "            colname = 'name' + str(max_train_user + i)\n",
    "            train_df[colname] = [0] * len_train\n",
    "    else:\n",
    "        diff = max_train_user-max_test_user\n",
    "        for i in range (0, diff):\n",
    "            colname = 'name' + str(max_test_user + i)\n",
    "            test_df[colname] = [0] * len_test\n",
    "    '''\n",
    "    train_df = train_df.reindex(sorted(train_df.columns), axis=1)\n",
    "    test_df = test_df.reindex(sorted(test_df.columns), axis=1)\n",
    "\n",
    "    return train_df, test_df"
   ]
  },
  {
   "cell_type": "code",
   "execution_count": 68,
   "metadata": {
    "pycharm": {
     "name": "#%%\n"
    }
   },
   "outputs": [],
   "source": [
    "def sum_cols(train_df, test_df):\n",
    "    i = 0\n",
    "    for col in train_df:\n",
    "        if 'tweet' in col:\n",
    "            if i == 0:\n",
    "                i+=1\n",
    "                new_col = train_df[col].values\n",
    "            else:\n",
    "                new_col += train_df[col].values\n",
    "            train_df = train_df.drop(columns=[col], axis=1)\n",
    "    train_df['tweet'] = new_col\n",
    "\n",
    "    i = 0\n",
    "    for col in test_df:\n",
    "        if 'tweet' in col:\n",
    "            if i == 0:\n",
    "                i+=1\n",
    "                new_col = test_df[col].values\n",
    "            else:\n",
    "                new_col += test_df[col].values\n",
    "            test_df = test_df.drop(columns=[col], axis=1)\n",
    "    test_df['tweet'] = new_col\n",
    "\n",
    "    return train_df, test_df"
   ]
  },
  {
   "cell_type": "markdown",
   "metadata": {
    "pycharm": {
     "name": "#%% md\n"
    }
   },
   "source": [
    "# Data Analysis"
   ]
  },
  {
   "cell_type": "markdown",
   "metadata": {
    "pycharm": {
     "name": "#%% md\n"
    }
   },
   "source": [
    "After the merge, we print the information regarding how many null entries we still have (if any) and the column types, as well as the distribution of the Verified column values."
   ]
  },
  {
   "cell_type": "code",
   "execution_count": 69,
   "metadata": {
    "pycharm": {
     "name": "#%%\n"
    }
   },
   "outputs": [
    {
     "data": {
      "text/plain": [
       "'Number of null values in the test dataframe: Tweet       4\\nName        4\\nUsername    4\\nVerified    4\\nCategory    0\\ndtype: int64'"
      ]
     },
     "execution_count": 69,
     "metadata": {},
     "output_type": "execute_result"
    }
   ],
   "source": [
    "f'Number of null values in the train dataframe: {df_train.isnull().sum()}'\n",
    "f'Number of null values in the test dataframe: {df_test.isnull().sum()}'"
   ]
  },
  {
   "cell_type": "code",
   "execution_count": 70,
   "metadata": {
    "pycharm": {
     "name": "#%%\n"
    }
   },
   "outputs": [
    {
     "data": {
      "text/plain": [
       "Tweet       object\n",
       "Name        object\n",
       "Username    object\n",
       "Verified    object\n",
       "Category    object\n",
       "dtype: object"
      ]
     },
     "execution_count": 70,
     "metadata": {},
     "output_type": "execute_result"
    }
   ],
   "source": [
    "df_train.dtypes"
   ]
  },
  {
   "cell_type": "code",
   "execution_count": 71,
   "metadata": {
    "pycharm": {
     "name": "#%%\n"
    }
   },
   "outputs": [
    {
     "data": {
      "text/plain": [
       "Tweet       object\n",
       "Name        object\n",
       "Username    object\n",
       "Verified    object\n",
       "Category    object\n",
       "dtype: object"
      ]
     },
     "execution_count": 71,
     "metadata": {},
     "output_type": "execute_result"
    }
   ],
   "source": [
    "df_test.dtypes"
   ]
  },
  {
   "cell_type": "code",
   "execution_count": 72,
   "metadata": {
    "pycharm": {
     "name": "#%%\n"
    }
   },
   "outputs": [
    {
     "data": {
      "text/plain": [
       "False    4325\n",
       "True      357\n",
       "Name: Verified, dtype: int64"
      ]
     },
     "execution_count": 72,
     "metadata": {},
     "output_type": "execute_result"
    }
   ],
   "source": [
    "df_train['Verified'].value_counts()"
   ]
  },
  {
   "cell_type": "code",
   "execution_count": 73,
   "metadata": {
    "pycharm": {
     "name": "#%%\n"
    }
   },
   "outputs": [
    {
     "data": {
      "text/plain": [
       "False    1202\n",
       "True       96\n",
       "Name: Verified, dtype: int64"
      ]
     },
     "execution_count": 73,
     "metadata": {},
     "output_type": "execute_result"
    }
   ],
   "source": [
    "df_test['Verified'].value_counts()"
   ]
  },
  {
   "cell_type": "markdown",
   "metadata": {
    "pycharm": {
     "name": "#%% md\n"
    }
   },
   "source": [
    "## Frequent Words"
   ]
  },
  {
   "cell_type": "markdown",
   "metadata": {
    "pycharm": {
     "name": "#%% md\n"
    }
   },
   "source": [
    "Most Frequent Word Occurrences after removing stop words"
   ]
  },
  {
   "cell_type": "code",
   "execution_count": 74,
   "metadata": {
    "pycharm": {
     "name": "#%%\n"
    }
   },
   "outputs": [
    {
     "data": {
      "text/plain": [
       "[('vaccine', 2984),\n",
       " ('COVID-19', 1640),\n",
       " ('The', 903),\n",
       " ('people', 702),\n",
       " ('Covid-19', 558),\n",
       " ('vaccine.', 551),\n",
       " ('Covid', 523),\n",
       " ('Vaccine', 497),\n",
       " ('I', 497),\n",
       " ('covid', 489),\n",
       " ('get', 428),\n",
       " ('vaccines', 425),\n",
       " ('COVID', 422),\n",
       " ('immune', 394)]"
      ]
     },
     "execution_count": 74,
     "metadata": {},
     "output_type": "execute_result"
    }
   ],
   "source": [
    "Counter(\" \".join(remove_stopwords(df_train['Tweet'].astype(str))).split()).most_common(14)"
   ]
  },
  {
   "cell_type": "code",
   "execution_count": 75,
   "metadata": {
    "pycharm": {
     "name": "#%%\n"
    }
   },
   "outputs": [
    {
     "data": {
      "text/plain": [
       "[('vaccine', 842),\n",
       " ('COVID-19', 460),\n",
       " ('The', 266),\n",
       " ('people', 196),\n",
       " ('Covid-19', 158),\n",
       " ('covid', 142),\n",
       " ('get', 135),\n",
       " ('vaccine.', 131),\n",
       " ('Vaccine', 129),\n",
       " ('immune', 125),\n",
       " ('vaccines', 125),\n",
       " ('Covid', 125),\n",
       " ('I', 124),\n",
       " ('COVID', 110)]"
      ]
     },
     "execution_count": 75,
     "metadata": {},
     "output_type": "execute_result"
    }
   ],
   "source": [
    "Counter(\" \".join(remove_stopwords(df_test['Tweet'].astype(str))).split()).most_common(14)"
   ]
  },
  {
   "cell_type": "markdown",
   "metadata": {
    "pycharm": {
     "name": "#%% md\n"
    }
   },
   "source": [
    "## Word Count"
   ]
  },
  {
   "cell_type": "markdown",
   "metadata": {
    "pycharm": {
     "name": "#%% md\n"
    }
   },
   "source": [
    "Word Count for tweets after removing stop words"
   ]
  },
  {
   "cell_type": "code",
   "execution_count": 76,
   "metadata": {
    "pycharm": {
     "name": "#%%\n"
    }
   },
   "outputs": [
    {
     "name": "stdout",
     "output_type": "stream",
     "text": [
      "18.027102005975244\n"
     ]
    }
   ],
   "source": [
    "tweets = remove_stopwords(df_train['Tweet'].astype(str))\n",
    "sum_words = 0\n",
    "num = len(df_train['Tweet'])\n",
    "for tweet in tweets:\n",
    "    tweet = tweet.split(' ')\n",
    "    sum_words += len(tweet)\n",
    "print(sum_words/num)"
   ]
  },
  {
   "cell_type": "code",
   "execution_count": 77,
   "metadata": {
    "pycharm": {
     "name": "#%%\n"
    }
   },
   "outputs": [
    {
     "name": "stdout",
     "output_type": "stream",
     "text": [
      "18.00384024577573\n"
     ]
    }
   ],
   "source": [
    "tweets = remove_stopwords(df_test['Tweet'].astype(str))\n",
    "sum_words = 0\n",
    "num = len(df_test['Tweet'])\n",
    "for tweet in tweets:\n",
    "    tweet = tweet.split(' ')\n",
    "    sum_words += len(tweet)\n",
    "print(sum_words/num)\n"
   ]
  },
  {
   "cell_type": "markdown",
   "metadata": {
    "pycharm": {
     "name": "#%% md\n"
    }
   },
   "source": [
    "## Tweets with COVID related terms"
   ]
  },
  {
   "cell_type": "markdown",
   "metadata": {
    "pycharm": {
     "name": "#%% md\n"
    }
   },
   "source": [
    "Percentage of tweets with COVID (or COVID-19 or any other group of words) in total"
   ]
  },
  {
   "cell_type": "code",
   "execution_count": 78,
   "metadata": {
    "pycharm": {
     "name": "#%%\n"
    }
   },
   "outputs": [
    {
     "name": "stdout",
     "output_type": "stream",
     "text": [
      "Number of Tweets with covid/covid-19 words: 4017/4686 (85.72343149807938%)\n",
      "Number of Tweets with vaccine words: 4373/4686 (93.3205292360222%)\n"
     ]
    }
   ],
   "source": [
    "tweets = df_train['Tweet'].astype(str)\n",
    "sum_covid = 0\n",
    "sum_vaccine = 0\n",
    "num = len(df_train['Tweet'])\n",
    "for tweet in tweets:\n",
    "    if 'covid' in tweet.lower() or 'covid-19' in tweet.lower():\n",
    "        sum_covid += 1\n",
    "    if 'vaccine' in tweet.lower():\n",
    "        sum_vaccine += 1\n",
    "print(\"Number of Tweets with covid/covid-19 words: \" + str(sum_covid) + \"/\" + str(num) + \" (\" + str((sum_covid/num)*100) + \"%)\")\n",
    "print(\"Number of Tweets with vaccine words: \" + str(sum_vaccine) + \"/\" + str(num) + \" (\" + str((sum_vaccine/num)*100) + \"%)\")"
   ]
  },
  {
   "cell_type": "code",
   "execution_count": 79,
   "metadata": {
    "pycharm": {
     "name": "#%%\n"
    }
   },
   "outputs": [
    {
     "name": "stdout",
     "output_type": "stream",
     "text": [
      "Number of Tweets with covid/covid-19 words: 1095/1302 (84.10138248847926%)\n",
      "Number of Tweets with vaccine words: 1191/1302 (91.47465437788019%)\n"
     ]
    }
   ],
   "source": [
    "tweets = df_test['Tweet'].astype(str)\n",
    "sum_covid = 0\n",
    "sum_vaccine = 0\n",
    "num = len(df_test['Tweet'])\n",
    "for tweet in tweets:\n",
    "    if 'covid' in tweet.lower() or 'covid-19' in tweet.lower():\n",
    "        sum_covid += 1\n",
    "    if 'vaccine' in tweet.lower():\n",
    "        sum_vaccine += 1\n",
    "print(\"Number of Tweets with covid/covid-19 words: \" + str(sum_covid) + \"/\" + str(num) + \" (\" + str((sum_covid/num)*100) + \"%)\")\n",
    "print(\"Number of Tweets with vaccine words: \" + str(sum_vaccine) + \"/\" + str(num) + \" (\" + str((sum_vaccine/num)*100) + \"%)\")"
   ]
  },
  {
   "cell_type": "markdown",
   "metadata": {
    "pycharm": {
     "name": "#%% md\n"
    }
   },
   "source": [
    "# Models"
   ]
  },
  {
   "cell_type": "markdown",
   "metadata": {
    "pycharm": {
     "name": "#%% md\n"
    }
   },
   "source": [
    "## Linear SVM Model"
   ]
  },
  {
   "cell_type": "code",
   "execution_count": 80,
   "metadata": {
    "pycharm": {
     "name": "#%%\n"
    }
   },
   "outputs": [],
   "source": [
    "svm_df_train = df_train.copy()\n",
    "svm_df_test = df_test.copy()"
   ]
  },
  {
   "cell_type": "code",
   "execution_count": 81,
   "metadata": {
    "pycharm": {
     "name": "#%%\n"
    }
   },
   "outputs": [],
   "source": [
    "svm_df_train['Tweet'] = re_removal(svm_df_train['Tweet'].astype(str))\n",
    "svm_df_test['Tweet'] = re_removal(svm_df_test['Tweet'].astype(str))"
   ]
  },
  {
   "cell_type": "code",
   "execution_count": 82,
   "metadata": {
    "pycharm": {
     "name": "#%%\n"
    }
   },
   "outputs": [],
   "source": [
    "svm_df_train['Tweet'] = remove_stopwords(svm_df_train['Tweet'].astype(str))\n",
    "svm_df_test['Tweet'] = remove_stopwords(svm_df_test['Tweet'].astype(str))"
   ]
  },
  {
   "cell_type": "code",
   "execution_count": 83,
   "metadata": {
    "pycharm": {
     "name": "#%%\n"
    }
   },
   "outputs": [],
   "source": [
    "dictionary_svm = create_dict(svm_df_train['Tweet'], svm_df_test['Tweet'])"
   ]
  },
  {
   "cell_type": "code",
   "execution_count": 84,
   "metadata": {
    "pycharm": {
     "name": "#%%\n"
    }
   },
   "outputs": [],
   "source": [
    "svm_df_train['Tweet'] = get_embeddings(svm_df_train['Tweet'], dictionary_svm)\n",
    "svm_df_test['Tweet'] = get_embeddings(svm_df_test['Tweet'], dictionary_svm)"
   ]
  },
  {
   "cell_type": "code",
   "execution_count": null,
   "metadata": {
    "pycharm": {
     "name": "#%%\n"
    }
   },
   "outputs": [],
   "source": [
    "svm_df_train['Name'] = get_embeddings(svm_df_train['Name'], dictionary_svm)\n",
    "svm_df_test['Name'] = get_embeddings(svm_df_test['Name'], dictionary_svm)"
   ]
  },
  {
   "cell_type": "code",
   "execution_count": null,
   "metadata": {
    "pycharm": {
     "name": "#%%\n"
    }
   },
   "outputs": [],
   "source": [
    "svm_df_train['Username'] = get_embeddings(svm_df_train['Username'], dictionary_svm)\n",
    "svm_df_test['Username'] = get_embeddings(svm_df_test['Username'], dictionary_svm)"
   ]
  },
  {
   "cell_type": "code",
   "execution_count": null,
   "metadata": {
    "pycharm": {
     "name": "#%%\n"
    }
   },
   "outputs": [],
   "source": [
    "svm_df_train['Category'] = categorial_to_numerical(svm_df_train['Category'])\n",
    "svm_df_test['Category'] = categorial_to_numerical(svm_df_test['Category'])"
   ]
  },
  {
   "cell_type": "code",
   "execution_count": null,
   "metadata": {
    "pycharm": {
     "name": "#%%\n"
    }
   },
   "outputs": [],
   "source": [
    "svm_df_train['Verified'] = categorial_to_numerical(svm_df_train['Verified'])\n",
    "svm_df_test['Verified'] = categorial_to_numerical(svm_df_test['Verified'])"
   ]
  },
  {
   "cell_type": "code",
   "execution_count": null,
   "metadata": {
    "pycharm": {
     "name": "#%%\n"
    }
   },
   "outputs": [],
   "source": [
    "svm_df_train.head()"
   ]
  },
  {
   "cell_type": "code",
   "execution_count": null,
   "metadata": {
    "pycharm": {
     "name": "#%%\n"
    }
   },
   "outputs": [],
   "source": [
    "svm_df_test.head()"
   ]
  },
  {
   "cell_type": "code",
   "execution_count": null,
   "metadata": {
    "pycharm": {
     "name": "#%%\n"
    }
   },
   "outputs": [],
   "source": [
    "svm_model = svm.LinearSVC(dual=False)"
   ]
  },
  {
   "cell_type": "markdown",
   "metadata": {
    "pycharm": {
     "name": "#%% md\n"
    }
   },
   "source": [
    "**Note:** dual=False since n_samples > n_features"
   ]
  },
  {
   "cell_type": "code",
   "execution_count": null,
   "metadata": {
    "pycharm": {
     "name": "#%%\n"
    }
   },
   "outputs": [],
   "source": [
    "y_svm = svm_df_train['Category']\n",
    "y_test_svm = svm_df_test['Category']\n",
    "X_svm, X_test_svm = multiple_columns(svm_df_train, svm_df_test)"
   ]
  },
  {
   "cell_type": "code",
   "execution_count": null,
   "metadata": {
    "pycharm": {
     "name": "#%%\n"
    }
   },
   "outputs": [],
   "source": [
    "svm_model.fit(X_svm,y_svm)"
   ]
  },
  {
   "cell_type": "code",
   "execution_count": null,
   "metadata": {
    "pycharm": {
     "name": "#%%\n"
    }
   },
   "outputs": [],
   "source": [
    "svm_predicted = svm_model.predict(X_test_svm)"
   ]
  },
  {
   "cell_type": "code",
   "execution_count": null,
   "metadata": {
    "pycharm": {
     "name": "#%%\n"
    }
   },
   "outputs": [],
   "source": [
    "f1score_svm_macro = f1_score(y_test_svm, svm_predicted, average='macro')\n",
    "print(\"Linear SVM Model - Macro F1 Score: \" + str(f1score_svm_macro*100) + \"%\")"
   ]
  },
  {
   "cell_type": "code",
   "execution_count": null,
   "metadata": {
    "pycharm": {
     "name": "#%%\n"
    }
   },
   "outputs": [],
   "source": [
    "f1score_svm_weighted = f1_score(y_test_svm, svm_predicted, average='weighted')\n",
    "print(\"Linear SVM Model - Weighted F1 Score: \" + str(f1score_svm_weighted*100) + \"%\")"
   ]
  },
  {
   "cell_type": "code",
   "execution_count": null,
   "metadata": {
    "pycharm": {
     "name": "#%%\n"
    }
   },
   "outputs": [],
   "source": [
    "print(y_svm)\n",
    "print(y_test_svm)\n",
    "print(X_svm)\n",
    "print(X_test_svm)\n",
    "print(svm_predicted)\n",
    "print(f1score_svm_macro)\n",
    "print(f1score_svm_weighted)"
   ]
  },
  {
   "cell_type": "markdown",
   "metadata": {
    "pycharm": {
     "name": "#%% md\n"
    }
   },
   "source": [
    "## Logistic Regression Model"
   ]
  },
  {
   "cell_type": "code",
   "execution_count": null,
   "metadata": {
    "pycharm": {
     "name": "#%%\n"
    }
   },
   "outputs": [],
   "source": [
    "lrm_df_train = df_train.copy()\n",
    "lrm_df_test = df_test.copy()"
   ]
  },
  {
   "cell_type": "code",
   "execution_count": null,
   "metadata": {
    "pycharm": {
     "name": "#%%\n"
    }
   },
   "outputs": [],
   "source": [
    "lrm_df_train['Tweet'] = re_removal(lrm_df_train['Tweet'].astype(str))\n",
    "lrm_df_test['Tweet'] = re_removal(lrm_df_test['Tweet'].astype(str))"
   ]
  },
  {
   "cell_type": "code",
   "execution_count": null,
   "metadata": {
    "pycharm": {
     "name": "#%%\n"
    }
   },
   "outputs": [],
   "source": [
    "lrm_df_train['Tweet'] = remove_stopwords(lrm_df_train['Tweet'].astype(str))\n",
    "lrm_df_test['Tweet'] = remove_stopwords(lrm_df_test['Tweet'].astype(str))"
   ]
  },
  {
   "cell_type": "code",
   "execution_count": null,
   "metadata": {
    "pycharm": {
     "name": "#%%\n"
    }
   },
   "outputs": [],
   "source": [
    "dictionary = create_dict(lrm_df_train['Tweet'], lrm_df_test['Tweet'])"
   ]
  },
  {
   "cell_type": "code",
   "execution_count": null,
   "metadata": {
    "pycharm": {
     "name": "#%%\n"
    }
   },
   "outputs": [],
   "source": [
    "lrm_df_train['Tweet'] = get_embeddings(lrm_df_train['Tweet'], dictionary)\n",
    "lrm_df_test['Tweet'] = get_embeddings(lrm_df_test['Tweet'], dictionary)"
   ]
  },
  {
   "cell_type": "code",
   "execution_count": null,
   "metadata": {
    "pycharm": {
     "name": "#%%\n"
    }
   },
   "outputs": [],
   "source": [
    "lrm_df_train['Name'] = get_embeddings(lrm_df_train['Name'], dictionary)\n",
    "lrm_df_test['Name'] = get_embeddings(lrm_df_test['Name'], dictionary)"
   ]
  },
  {
   "cell_type": "code",
   "execution_count": null,
   "metadata": {
    "pycharm": {
     "name": "#%%\n"
    }
   },
   "outputs": [],
   "source": [
    "lrm_df_train['Username'] = get_embeddings(lrm_df_train['Username'], dictionary)\n",
    "lrm_df_test['Username'] = get_embeddings(lrm_df_test['Username'], dictionary)"
   ]
  },
  {
   "cell_type": "code",
   "execution_count": null,
   "metadata": {
    "pycharm": {
     "name": "#%%\n"
    }
   },
   "outputs": [],
   "source": [
    "lrm_df_train['Category'] = categorial_to_numerical(lrm_df_train['Category'])\n",
    "lrm_df_test['Category'] = categorial_to_numerical(lrm_df_test['Category'])"
   ]
  },
  {
   "cell_type": "code",
   "execution_count": null,
   "metadata": {
    "pycharm": {
     "name": "#%%\n"
    }
   },
   "outputs": [],
   "source": [
    "lrm_df_train['Verified'] = categorial_to_numerical(lrm_df_train['Verified'])\n",
    "lrm_df_test['Verified'] = categorial_to_numerical(lrm_df_test['Verified'])"
   ]
  },
  {
   "cell_type": "code",
   "execution_count": null,
   "metadata": {
    "pycharm": {
     "name": "#%%\n"
    }
   },
   "outputs": [],
   "source": [
    "lrm_model = LogisticRegression(solver='liblinear')"
   ]
  },
  {
   "cell_type": "code",
   "execution_count": null,
   "metadata": {
    "pycharm": {
     "name": "#%%\n"
    }
   },
   "outputs": [],
   "source": [
    "y_lrm = lrm_df_train['Category']\n",
    "y_test_lrm = lrm_df_test['Category']\n",
    "X_lrm, X_test_lrm = multiple_columns(lrm_df_train, lrm_df_test)"
   ]
  },
  {
   "cell_type": "code",
   "execution_count": null,
   "metadata": {
    "pycharm": {
     "name": "#%%\n"
    }
   },
   "outputs": [],
   "source": [
    "lrm_model.fit(X_lrm,y_lrm)"
   ]
  },
  {
   "cell_type": "code",
   "execution_count": null,
   "metadata": {
    "pycharm": {
     "name": "#%%\n"
    }
   },
   "outputs": [],
   "source": [
    "lrm_predicted = lrm_model.predict(X_test_lrm)"
   ]
  },
  {
   "cell_type": "code",
   "execution_count": null,
   "metadata": {
    "pycharm": {
     "name": "#%%\n"
    }
   },
   "outputs": [],
   "source": [
    "f1score_lrm_macro = f1_score(y_test_lrm, lrm_predicted, average='macro')\n",
    "print(\"Logistic Regression Model - Macro F1 Score: \" + str(f1score_lrm_macro*100) + \"%\")"
   ]
  },
  {
   "cell_type": "code",
   "execution_count": null,
   "metadata": {
    "pycharm": {
     "name": "#%%\n"
    }
   },
   "outputs": [],
   "source": [
    "f1score_lrm_weighted = f1_score(y_test_lrm, lrm_predicted, average='weighted')\n",
    "print(\"Logistic Regression Model - Weighted F1 Score: \" + str(f1score_lrm_weighted*100) + \"%\")"
   ]
  },
  {
   "cell_type": "code",
   "execution_count": null,
   "metadata": {
    "pycharm": {
     "name": "#%%\n"
    }
   },
   "outputs": [],
   "source": [
    "print(y_lrm)\n",
    "print(y_test_lrm)\n",
    "print(X_lrm)\n",
    "print(X_test_lrm)\n",
    "print(lrm_predicted)\n",
    "print(f1score_lrm_macro)\n",
    "print(f1score_lrm_weighted)"
   ]
  },
  {
   "cell_type": "markdown",
   "metadata": {
    "pycharm": {
     "name": "#%% md\n"
    }
   },
   "source": [
    "## Random Forest Model"
   ]
  },
  {
   "cell_type": "code",
   "execution_count": null,
   "metadata": {
    "pycharm": {
     "name": "#%%\n"
    }
   },
   "outputs": [],
   "source": [
    "rfm_df_train = df_train\n",
    "rfm_df_test = df_test"
   ]
  },
  {
   "cell_type": "code",
   "execution_count": null,
   "metadata": {
    "pycharm": {
     "name": "#%%\n"
    }
   },
   "outputs": [],
   "source": [
    "rfm_df_train['Tweet'] = re_removal(rfm_df_train['Tweet'].astype(str))\n",
    "rfm_df_test['Tweet'] = re_removal(rfm_df_test['Tweet'].astype(str))"
   ]
  },
  {
   "cell_type": "code",
   "execution_count": null,
   "metadata": {
    "pycharm": {
     "name": "#%%\n"
    }
   },
   "outputs": [],
   "source": [
    "rfm_df_train['Tweet'] = remove_stopwords(rfm_df_train['Tweet'].astype(str))\n",
    "rfm_df_test['Tweet'] = remove_stopwords(rfm_df_test['Tweet'].astype(str))"
   ]
  },
  {
   "cell_type": "code",
   "execution_count": null,
   "metadata": {
    "pycharm": {
     "name": "#%%\n"
    }
   },
   "outputs": [],
   "source": [
    "dictionary = create_dict(rfm_df_train['Tweet'], rfm_df_test['Tweet'])"
   ]
  },
  {
   "cell_type": "code",
   "execution_count": null,
   "metadata": {
    "pycharm": {
     "name": "#%%\n"
    }
   },
   "outputs": [],
   "source": [
    "rfm_df_train['Tweet'] = get_embeddings(rfm_df_train['Tweet'], dictionary)\n",
    "rfm_df_test['Tweet'] = get_embeddings(rfm_df_test['Tweet'], dictionary)"
   ]
  },
  {
   "cell_type": "code",
   "execution_count": null,
   "metadata": {
    "pycharm": {
     "name": "#%%\n"
    }
   },
   "outputs": [],
   "source": [
    "rfm_df_train['Name'] = get_embeddings(rfm_df_train['Name'], dictionary)\n",
    "rfm_df_test['Name'] = get_embeddings(rfm_df_test['Name'], dictionary)"
   ]
  },
  {
   "cell_type": "code",
   "execution_count": null,
   "metadata": {
    "pycharm": {
     "name": "#%%\n"
    }
   },
   "outputs": [],
   "source": [
    "rfm_df_train['Username'] = get_embeddings(rfm_df_train['Username'], dictionary)\n",
    "rfm_df_test['Username'] = get_embeddings(rfm_df_test['Username'], dictionary)"
   ]
  },
  {
   "cell_type": "code",
   "execution_count": null,
   "metadata": {
    "pycharm": {
     "name": "#%%\n"
    }
   },
   "outputs": [],
   "source": [
    "rfm_df_train['Category'] = categorial_to_numerical(rfm_df_train['Category'])\n",
    "rfm_df_test['Category'] = categorial_to_numerical(rfm_df_test['Category'])"
   ]
  },
  {
   "cell_type": "code",
   "execution_count": null,
   "metadata": {
    "pycharm": {
     "name": "#%%\n"
    }
   },
   "outputs": [],
   "source": [
    "rfm_df_train['Verified'] = categorial_to_numerical(rfm_df_train['Verified'])\n",
    "rfm_df_test['Verified'] = categorial_to_numerical(rfm_df_test['Verified'])"
   ]
  },
  {
   "cell_type": "code",
   "execution_count": null,
   "metadata": {
    "pycharm": {
     "name": "#%%\n"
    }
   },
   "outputs": [],
   "source": [
    "rfm_model = RandomForestClassifier()"
   ]
  },
  {
   "cell_type": "code",
   "execution_count": null,
   "metadata": {
    "pycharm": {
     "name": "#%%\n"
    }
   },
   "outputs": [],
   "source": [
    "y = rfm_df_train['Category']\n",
    "y_test = rfm_df_test['Category']\n",
    "X, X_test = multiple_columns(rfm_df_train, rfm_df_test)"
   ]
  },
  {
   "cell_type": "code",
   "execution_count": null,
   "metadata": {
    "pycharm": {
     "name": "#%%\n"
    }
   },
   "outputs": [],
   "source": [
    "rfm_model.fit(X, y)"
   ]
  },
  {
   "cell_type": "code",
   "execution_count": null,
   "metadata": {
    "pycharm": {
     "name": "#%%\n"
    }
   },
   "outputs": [],
   "source": [
    "rfm_predicted = rfm_model.predict(X_test)"
   ]
  },
  {
   "cell_type": "code",
   "execution_count": null,
   "metadata": {
    "pycharm": {
     "name": "#%%\n"
    }
   },
   "outputs": [],
   "source": [
    "f1score = f1_score(y_test, rfm_predicted, average='macro')\n",
    "print(\"Random Forest Model - Macro F1 Score: \" + str(f1score*100) + \"%\")"
   ]
  },
  {
   "cell_type": "code",
   "execution_count": null,
   "metadata": {
    "pycharm": {
     "name": "#%%\n"
    }
   },
   "outputs": [],
   "source": [
    "f1score = f1_score(y_test, rfm_predicted, average='weighted')\n",
    "print(\"Random Forest Model - Weighted F1 Score: \" + str(f1score*100) + \"%\")"
   ]
  },
  {
   "cell_type": "markdown",
   "metadata": {
    "pycharm": {
     "name": "#%% md\n"
    }
   },
   "source": [
    "## Naive Bayes Model"
   ]
  },
  {
   "cell_type": "code",
   "execution_count": null,
   "metadata": {
    "pycharm": {
     "name": "#%%\n"
    }
   },
   "outputs": [],
   "source": [
    "nbm_df_train = df_train\n",
    "nbm_df_test = df_test"
   ]
  },
  {
   "cell_type": "code",
   "execution_count": null,
   "metadata": {
    "pycharm": {
     "name": "#%%\n"
    }
   },
   "outputs": [],
   "source": [
    "nbm_df_train['Tweet'] = re_removal(nbm_df_train['Tweet'].astype(str))\n",
    "nbm_df_test['Tweet'] = re_removal(nbm_df_test['Tweet'].astype(str))"
   ]
  },
  {
   "cell_type": "code",
   "execution_count": null,
   "metadata": {
    "pycharm": {
     "name": "#%%\n"
    }
   },
   "outputs": [],
   "source": [
    "nbm_df_train['Tweet'] = remove_stopwords(nbm_df_train['Tweet'].astype(str))\n",
    "nbm_df_test['Tweet'] = remove_stopwords(nbm_df_test['Tweet'].astype(str))"
   ]
  },
  {
   "cell_type": "code",
   "execution_count": null,
   "metadata": {
    "pycharm": {
     "name": "#%%\n"
    }
   },
   "outputs": [],
   "source": [
    "dictionary = create_dict(nbm_df_train['Tweet'], nbm_df_test['Tweet'])"
   ]
  },
  {
   "cell_type": "code",
   "execution_count": null,
   "metadata": {
    "pycharm": {
     "name": "#%%\n"
    }
   },
   "outputs": [],
   "source": [
    "nbm_df_train['Tweet'] = get_embeddings(nbm_df_train['Tweet'], dictionary)\n",
    "nbm_df_test['Tweet'] = get_embeddings(nbm_df_test['Tweet'], dictionary)"
   ]
  },
  {
   "cell_type": "code",
   "execution_count": null,
   "metadata": {
    "pycharm": {
     "name": "#%%\n"
    }
   },
   "outputs": [],
   "source": [
    "nbm_df_train['Name'] = get_embeddings(nbm_df_train['Name'], dictionary)\n",
    "nbm_df_test['Name'] = get_embeddings(nbm_df_test['Name'], dictionary)"
   ]
  },
  {
   "cell_type": "code",
   "execution_count": null,
   "metadata": {
    "pycharm": {
     "name": "#%%\n"
    }
   },
   "outputs": [],
   "source": [
    "nbm_df_train['Username'] = get_embeddings(nbm_df_train['Username'], dictionary)\n",
    "nbm_df_test['Username'] = get_embeddings(nbm_df_test['Username'], dictionary)"
   ]
  },
  {
   "cell_type": "code",
   "execution_count": null,
   "metadata": {
    "pycharm": {
     "name": "#%%\n"
    }
   },
   "outputs": [],
   "source": [
    "nbm_df_train['Category'] = categorial_to_numerical(nbm_df_train['Category'])\n",
    "nbm_df_test['Category'] = categorial_to_numerical(nbm_df_test['Category'])"
   ]
  },
  {
   "cell_type": "code",
   "execution_count": null,
   "metadata": {
    "pycharm": {
     "name": "#%%\n"
    }
   },
   "outputs": [],
   "source": [
    "nbm_df_train['Verified'] = categorial_to_numerical(nbm_df_train['Verified'])\n",
    "nbm_df_test['Verified'] = categorial_to_numerical(nbm_df_test['Verified'])"
   ]
  },
  {
   "cell_type": "code",
   "execution_count": null,
   "metadata": {
    "pycharm": {
     "name": "#%%\n"
    }
   },
   "outputs": [],
   "source": [
    "nbm_model = GaussianNB()"
   ]
  },
  {
   "cell_type": "code",
   "execution_count": null,
   "metadata": {
    "pycharm": {
     "name": "#%%\n"
    }
   },
   "outputs": [],
   "source": [
    "y = nbm_df_train['Category']\n",
    "y_test = nbm_df_test['Category']\n",
    "X, X_test = multiple_columns(nbm_df_train, nbm_df_test)"
   ]
  },
  {
   "cell_type": "code",
   "execution_count": null,
   "metadata": {
    "pycharm": {
     "name": "#%%\n"
    }
   },
   "outputs": [],
   "source": [
    "nbm_model.fit(X, y)"
   ]
  },
  {
   "cell_type": "code",
   "execution_count": null,
   "metadata": {
    "pycharm": {
     "name": "#%%\n"
    }
   },
   "outputs": [],
   "source": [
    "nbm_predicted = nbm_model.predict(X_test)"
   ]
  },
  {
   "cell_type": "code",
   "execution_count": null,
   "metadata": {
    "pycharm": {
     "name": "#%%\n"
    }
   },
   "outputs": [],
   "source": [
    "f1score = f1_score(y_test, nbm_predicted, average='macro')\n",
    "print(\"Naive Bayes Model - Macro F1 Score: \" + str(f1score*100) + \"%\")"
   ]
  },
  {
   "cell_type": "code",
   "execution_count": null,
   "metadata": {
    "pycharm": {
     "name": "#%%\n"
    }
   },
   "outputs": [],
   "source": [
    "f1score = f1_score(y_test, nbm_predicted, average='weighted')\n",
    "print(\"Naive Bayes Model - Weighted F1 Score: \" + str(f1score*100) + \"%\")"
   ]
  },
  {
   "cell_type": "markdown",
   "metadata": {
    "pycharm": {
     "name": "#%% md\n"
    }
   },
   "source": [
    "## K-Nearest Neighbor Model"
   ]
  },
  {
   "cell_type": "code",
   "execution_count": null,
   "metadata": {
    "pycharm": {
     "name": "#%%\n"
    }
   },
   "outputs": [],
   "source": [
    "knnm_df_train = df_train\n",
    "knnm_df_test = df_test"
   ]
  },
  {
   "cell_type": "code",
   "execution_count": null,
   "metadata": {
    "pycharm": {
     "name": "#%%\n"
    }
   },
   "outputs": [],
   "source": [
    "knnm_df_train['Tweet'] = re_removal(knnm_df_train['Tweet'].astype(str))\n",
    "knnm_df_test['Tweet'] = re_removal(knnm_df_test['Tweet'].astype(str))"
   ]
  },
  {
   "cell_type": "code",
   "execution_count": null,
   "metadata": {
    "pycharm": {
     "name": "#%%\n"
    }
   },
   "outputs": [],
   "source": [
    "knnm_df_train['Tweet'] = remove_stopwords(knnm_df_train['Tweet'].astype(str))\n",
    "knnm_df_test['Tweet'] = remove_stopwords(knnm_df_test['Tweet'].astype(str))"
   ]
  },
  {
   "cell_type": "code",
   "execution_count": null,
   "metadata": {
    "pycharm": {
     "name": "#%%\n"
    }
   },
   "outputs": [],
   "source": [
    "dictionary = create_dict(knnm_df_train['Tweet'], knnm_df_test['Tweet'])"
   ]
  },
  {
   "cell_type": "code",
   "execution_count": null,
   "metadata": {
    "pycharm": {
     "name": "#%%\n"
    }
   },
   "outputs": [],
   "source": [
    "knnm_df_train['Tweet'] = get_embeddings(knnm_df_train['Tweet'], dictionary)\n",
    "knnm_df_test['Tweet'] = get_embeddings(knnm_df_test['Tweet'], dictionary)"
   ]
  },
  {
   "cell_type": "code",
   "execution_count": null,
   "metadata": {
    "pycharm": {
     "name": "#%%\n"
    }
   },
   "outputs": [],
   "source": [
    "knnm_df_train['Name'] = get_embeddings(knnm_df_train['Name'], dictionary)\n",
    "knnm_df_test['Name'] = get_embeddings(knnm_df_test['Name'], dictionary)"
   ]
  },
  {
   "cell_type": "code",
   "execution_count": null,
   "metadata": {
    "pycharm": {
     "name": "#%%\n"
    }
   },
   "outputs": [],
   "source": [
    "knnm_df_train['Username'] = get_embeddings(knnm_df_train['Username'], dictionary)\n",
    "knnm_df_test['Username'] = get_embeddings(knnm_df_test['Username'], dictionary)"
   ]
  },
  {
   "cell_type": "code",
   "execution_count": null,
   "metadata": {
    "pycharm": {
     "name": "#%%\n"
    }
   },
   "outputs": [],
   "source": [
    "knnm_df_train['Category'] = categorial_to_numerical(knnm_df_train['Category'])\n",
    "knnm_df_test['Category'] = categorial_to_numerical(knnm_df_test['Category'])"
   ]
  },
  {
   "cell_type": "code",
   "execution_count": null,
   "metadata": {
    "pycharm": {
     "name": "#%%\n"
    }
   },
   "outputs": [],
   "source": [
    "knnm_df_train['Verified'] = categorial_to_numerical(knnm_df_train['Verified'])\n",
    "knnm_df_test['Verified'] = categorial_to_numerical(knnm_df_test['Verified'])"
   ]
  },
  {
   "cell_type": "code",
   "execution_count": null,
   "metadata": {
    "pycharm": {
     "name": "#%%\n"
    }
   },
   "outputs": [],
   "source": [
    "knnm_model = KNeighborsClassifier()"
   ]
  },
  {
   "cell_type": "code",
   "execution_count": null,
   "metadata": {
    "pycharm": {
     "name": "#%%\n"
    }
   },
   "outputs": [],
   "source": [
    "y = knnm_df_train['Category']\n",
    "y_test = knnm_df_test['Category']\n",
    "X, X_test = multiple_columns(knnm_df_train, knnm_df_test)"
   ]
  },
  {
   "cell_type": "code",
   "execution_count": null,
   "metadata": {
    "pycharm": {
     "name": "#%%\n"
    }
   },
   "outputs": [],
   "source": [
    "knnm_model.fit(X, y)"
   ]
  },
  {
   "cell_type": "code",
   "execution_count": null,
   "metadata": {
    "pycharm": {
     "name": "#%%\n"
    }
   },
   "outputs": [],
   "source": [
    "knnm_predicted = knnm_model.predict(X_test)"
   ]
  },
  {
   "cell_type": "code",
   "execution_count": null,
   "metadata": {
    "pycharm": {
     "name": "#%%\n"
    }
   },
   "outputs": [],
   "source": [
    "f1score = f1_score(y_test, knnm_predicted, average='macro')\n",
    "print(\"KNN Model - Macro F1 Score: \" + str(f1score*100) + \"%\")"
   ]
  },
  {
   "cell_type": "code",
   "execution_count": null,
   "metadata": {
    "pycharm": {
     "name": "#%%\n"
    }
   },
   "outputs": [],
   "source": [
    "f1score = f1_score(y_test, knnm_predicted, average='weighted')\n",
    "print(\"KNN Model - Weighted F1 Score: \" + str(f1score*100) + \"%\")"
   ]
  },
  {
   "cell_type": "markdown",
   "metadata": {
    "pycharm": {
     "name": "#%% md\n"
    }
   },
   "source": [
    "## CNN"
   ]
  },
  {
   "cell_type": "markdown",
   "metadata": {
    "pycharm": {
     "name": "#%% md\n"
    }
   },
   "source": [
    "Source: https://datascience.stackexchange.com/questions/45165/how-to-get-accuracy-f1-precision-and-recall-for-a-keras-model"
   ]
  },
  {
   "cell_type": "code",
   "execution_count": null,
   "metadata": {
    "pycharm": {
     "name": "#%%\n"
    }
   },
   "outputs": [],
   "source": [
    "def recall_m(y_true, y_pred):\n",
    "    true_positives = K.sum(K.round(K.clip(y_true * y_pred, 0, 1)))\n",
    "    possible_positives = K.sum(K.round(K.clip(y_true, 0, 1)))\n",
    "    recall = true_positives / (possible_positives + K.epsilon())\n",
    "    return recall\n",
    "\n",
    "def precision_m(y_true, y_pred):\n",
    "    true_positives = K.sum(K.round(K.clip(y_true * y_pred, 0, 1)))\n",
    "    predicted_positives = K.sum(K.round(K.clip(y_pred, 0, 1)))\n",
    "    precision = true_positives / (predicted_positives + K.epsilon())\n",
    "    return precision\n",
    "\n",
    "def f1_m(y_true, y_pred):\n",
    "    precision = precision_m(y_true, y_pred)\n",
    "    recall = recall_m(y_true, y_pred)\n",
    "    return 2*((precision*recall)/(precision+recall+K.epsilon()))"
   ]
  },
  {
   "cell_type": "markdown",
   "metadata": {
    "pycharm": {
     "name": "#%% md\n"
    }
   },
   "source": [
    "## CNN Model"
   ]
  },
  {
   "cell_type": "markdown",
   "metadata": {
    "pycharm": {
     "name": "#%% md\n"
    }
   },
   "source": [
    "Source: https://www.tensorflow.org/tutorials/images/cnn\n",
    "\n",
    "Layers:\n",
    "\n",
    "- Conv1D (https://keras.io/api/layers/convolution_layers/convolution1d/)\n",
    "- MaxPooling1D (https://keras.io/api/layers/pooling_layers/max_pooling1d/)\n",
    "- Dense (https://keras.io/api/layers/core_layers/dense/)\n",
    "- Dropout (https://keras.io/api/layers/regularization_layers/dropout/)"
   ]
  },
  {
   "cell_type": "code",
   "execution_count": null,
   "metadata": {
    "pycharm": {
     "name": "#%%\n"
    }
   },
   "outputs": [],
   "source": [
    "cnn_df_train = df_train\n",
    "cnn_df_test = df_test"
   ]
  },
  {
   "cell_type": "code",
   "execution_count": null,
   "metadata": {
    "pycharm": {
     "name": "#%%\n"
    }
   },
   "outputs": [],
   "source": [
    "dictionary = create_dict(cnn_df_train['Tweet'], cnn_df_test['Tweet'])"
   ]
  },
  {
   "cell_type": "code",
   "execution_count": null,
   "metadata": {
    "pycharm": {
     "name": "#%%\n"
    }
   },
   "outputs": [],
   "source": [
    "cnn_df_train['Tweet'] = get_embeddings(cnn_df_train['Tweet'], dictionary)\n",
    "cnn_df_test['Tweet'] = get_embeddings(cnn_df_test['Tweet'], dictionary)"
   ]
  },
  {
   "cell_type": "code",
   "execution_count": null,
   "metadata": {
    "pycharm": {
     "name": "#%%\n"
    }
   },
   "outputs": [],
   "source": [
    "cnn_df_train['Name'] = get_embeddings(cnn_df_train['Name'], dictionary)\n",
    "cnn_df_test['Name'] = get_embeddings(cnn_df_test['Name'], dictionary)"
   ]
  },
  {
   "cell_type": "code",
   "execution_count": null,
   "metadata": {
    "pycharm": {
     "name": "#%%\n"
    }
   },
   "outputs": [],
   "source": [
    "cnn_df_train['Username'] = get_embeddings(cnn_df_train['Username'], dictionary)\n",
    "cnn_df_test['Username'] = get_embeddings(cnn_df_test['Username'], dictionary)"
   ]
  },
  {
   "cell_type": "code",
   "execution_count": null,
   "metadata": {
    "pycharm": {
     "name": "#%%\n"
    }
   },
   "outputs": [],
   "source": [
    "cnn_df_train['Category'] = categorial_to_numerical(cnn_df_train['Category'])\n",
    "cnn_df_test['Category'] = categorial_to_numerical(cnn_df_test['Category'])"
   ]
  },
  {
   "cell_type": "code",
   "execution_count": null,
   "metadata": {
    "pycharm": {
     "name": "#%%\n"
    }
   },
   "outputs": [],
   "source": [
    "cnn_df_train['Verified'] = categorial_to_numerical(cnn_df_train['Verified'])\n",
    "cnn_df_test['Verified'] = categorial_to_numerical(cnn_df_test['Verified'])"
   ]
  },
  {
   "cell_type": "code",
   "execution_count": null,
   "metadata": {
    "pycharm": {
     "name": "#%%\n"
    }
   },
   "outputs": [],
   "source": [
    "y = cnn_df_train['Category']\n",
    "y_test = cnn_df_test['Category']\n",
    "X, X_test = multiple_columns(cnn_df_train, cnn_df_test)\n",
    "X, X_test = sum_cols(X, X_test)"
   ]
  },
  {
   "cell_type": "code",
   "execution_count": null,
   "metadata": {
    "pycharm": {
     "name": "#%%\n"
    }
   },
   "outputs": [],
   "source": [
    "size = len(X.columns)\n",
    "\n",
    "model = models.Sequential()\n",
    "model.add(layers.Reshape((1,size)))\n",
    "model.add(layers.Conv1D(32, size, padding='same', use_bias=False, activation='relu', input_shape = (1,size)))\n",
    "model.add(layers.MaxPooling1D(pool_size=2, strides=None, padding='same'))\n",
    "model.add(layers.Dense(32, activation='relu'))\n",
    "model.add(layers.Dropout(rate=0.2, input_shape = (1,size)))\n",
    "model.add(layers.Dense(32, activation='relu'))\n",
    "model.add(layers.Dropout(rate=0.2, input_shape = (1,size)))\n",
    "model.add(layers.Dense(4, activation='softmax'))"
   ]
  },
  {
   "cell_type": "code",
   "execution_count": null,
   "metadata": {
    "pycharm": {
     "name": "#%%\n"
    }
   },
   "outputs": [],
   "source": [
    "model.build((1,size))\n",
    "\n",
    "model.summary()"
   ]
  },
  {
   "cell_type": "code",
   "execution_count": null,
   "metadata": {
    "pycharm": {
     "name": "#%%\n"
    }
   },
   "outputs": [],
   "source": [
    "model.compile(optimizer=tf.keras.optimizers.SGD(learning_rate=0.0001),\n",
    "              loss=tf.keras.losses.SparseCategoricalCrossentropy(from_logits=False),\n",
    "              metrics=['acc'])"
   ]
  },
  {
   "cell_type": "markdown",
   "metadata": {
    "pycharm": {
     "name": "#%% md\n"
    }
   },
   "source": [
    "CNN models trained using stochastic gradient descent and learning rate equal to 0.0001.\n",
    "\n",
    "Sparse Categorical Cross entropy loss function used since there are four label classes."
   ]
  },
  {
   "cell_type": "code",
   "execution_count": null,
   "metadata": {
    "pycharm": {
     "name": "#%%\n"
    }
   },
   "outputs": [],
   "source": [
    "X_aux = np.asarray(X).astype('float32')\n",
    "\n",
    "history = model.fit(X_aux, y, epochs=150)"
   ]
  },
  {
   "cell_type": "code",
   "execution_count": null,
   "metadata": {
    "pycharm": {
     "name": "#%%\n"
    }
   },
   "outputs": [],
   "source": [
    "y_predicted = model.predict(X_test, verbose=0)"
   ]
  },
  {
   "cell_type": "code",
   "execution_count": null,
   "metadata": {
    "pycharm": {
     "name": "#%%\n"
    }
   },
   "outputs": [],
   "source": [
    "predicted = []\n",
    "max_value = 0\n",
    "for entry in y_predicted:\n",
    "    max_value = max(entry[0])\n",
    "    predicted.append(entry[0].tolist().index(max_value))"
   ]
  },
  {
   "cell_type": "code",
   "execution_count": null,
   "metadata": {
    "pycharm": {
     "name": "#%%\n"
    }
   },
   "outputs": [],
   "source": [
    "f1score = f1_score(y_test, predicted, average='macro')\n",
    "print(\"CNN Model 1 - Macro F1 Score: \" + str(f1score*100) + \"%\")"
   ]
  },
  {
   "cell_type": "code",
   "execution_count": null,
   "metadata": {
    "pycharm": {
     "name": "#%%\n"
    }
   },
   "outputs": [],
   "source": [
    "f1score = f1_score(y_test, predicted, average='weighted')\n",
    "print(\"CNN Model 1 - Weighted F1 Score: \" + str(f1score*100) + \"%\")"
   ]
  },
  {
   "cell_type": "markdown",
   "metadata": {
    "pycharm": {
     "name": "#%% md\n"
    }
   },
   "source": [
    "## CNN Model 2"
   ]
  },
  {
   "cell_type": "code",
   "execution_count": null,
   "metadata": {
    "pycharm": {
     "name": "#%%\n"
    }
   },
   "outputs": [],
   "source": [
    "cnn_df_train = df_train\n",
    "cnn_df_test = df_test"
   ]
  },
  {
   "cell_type": "code",
   "execution_count": null,
   "metadata": {
    "pycharm": {
     "name": "#%%\n"
    }
   },
   "outputs": [],
   "source": [
    "cnn_df_train['Tweet'] = re_removal(cnn_df_train['Tweet'].astype(str))\n",
    "cnn_df_test['Tweet'] = re_removal(cnn_df_test['Tweet'].astype(str))"
   ]
  },
  {
   "cell_type": "code",
   "execution_count": null,
   "metadata": {
    "pycharm": {
     "name": "#%%\n"
    }
   },
   "outputs": [],
   "source": [
    "cnn_df_train['Tweet'] = remove_stopwords(cnn_df_train['Tweet'].astype(str))\n",
    "cnn_df_test['Tweet'] = remove_stopwords(cnn_df_test['Tweet'].astype(str))"
   ]
  },
  {
   "cell_type": "code",
   "execution_count": null,
   "metadata": {
    "pycharm": {
     "name": "#%%\n"
    }
   },
   "outputs": [],
   "source": [
    "dictionary = create_dict(cnn_df_train['Tweet'], cnn_df_test['Tweet'])"
   ]
  },
  {
   "cell_type": "code",
   "execution_count": null,
   "metadata": {
    "pycharm": {
     "name": "#%%\n"
    }
   },
   "outputs": [],
   "source": [
    "cnn_df_train['Tweet'] = get_embeddings(cnn_df_train['Tweet'], dictionary)\n",
    "cnn_df_test['Tweet'] = get_embeddings(cnn_df_test['Tweet'], dictionary)"
   ]
  },
  {
   "cell_type": "code",
   "execution_count": null,
   "metadata": {
    "pycharm": {
     "name": "#%%\n"
    }
   },
   "outputs": [],
   "source": [
    "cnn_df_train['Name'] = get_embeddings(cnn_df_train['Name'], dictionary)\n",
    "cnn_df_test['Name'] = get_embeddings(cnn_df_test['Name'], dictionary)"
   ]
  },
  {
   "cell_type": "code",
   "execution_count": null,
   "metadata": {
    "pycharm": {
     "name": "#%%\n"
    }
   },
   "outputs": [],
   "source": [
    "cnn_df_train['Username'] = get_embeddings(cnn_df_train['Username'], dictionary)\n",
    "cnn_df_test['Username'] = get_embeddings(cnn_df_test['Username'], dictionary)"
   ]
  },
  {
   "cell_type": "code",
   "execution_count": null,
   "metadata": {
    "pycharm": {
     "name": "#%%\n"
    }
   },
   "outputs": [],
   "source": [
    "cnn_df_train['Category'] = categorial_to_numerical(cnn_df_train['Category'])\n",
    "cnn_df_test['Category'] = categorial_to_numerical(cnn_df_test['Category'])"
   ]
  },
  {
   "cell_type": "code",
   "execution_count": null,
   "metadata": {
    "pycharm": {
     "name": "#%%\n"
    }
   },
   "outputs": [],
   "source": [
    "cnn_df_train['Verified'] = categorial_to_numerical(cnn_df_train['Verified'])\n",
    "cnn_df_test['Verified'] = categorial_to_numerical(cnn_df_test['Verified'])"
   ]
  },
  {
   "cell_type": "code",
   "execution_count": null,
   "metadata": {
    "pycharm": {
     "name": "#%%\n"
    }
   },
   "outputs": [],
   "source": [
    "y = cnn_df_train['Category']\n",
    "y_test = cnn_df_test['Category']\n",
    "X, X_test = multiple_columns(cnn_df_train, cnn_df_test)"
   ]
  },
  {
   "cell_type": "code",
   "execution_count": null,
   "metadata": {
    "pycharm": {
     "name": "#%%\n"
    }
   },
   "outputs": [],
   "source": [
    "size=(len(X.columns))\n",
    "\n",
    "model = models.Sequential()\n",
    "model.add(layers.Reshape((1,size)))\n",
    "model.add(layers.Conv1D(32, size, padding='same', use_bias=False, activation='relu', input_shape = (1,size)))\n",
    "model.add(layers.MaxPooling1D(pool_size=2, strides=None, padding='same'))\n",
    "model.add(layers.Dense(32, activation='relu'))\n",
    "model.add(layers.Dropout(rate=0.2, input_shape = (1,size)))\n",
    "model.add(layers.Dense(32, activation='relu'))\n",
    "model.add(layers.Dropout(rate=0.2, input_shape = (1,size)))\n",
    "model.add(layers.Dense(4, activation='softmax'))"
   ]
  },
  {
   "cell_type": "code",
   "execution_count": null,
   "metadata": {
    "pycharm": {
     "name": "#%%\n"
    }
   },
   "outputs": [],
   "source": [
    "model.build((1,size))\n",
    "\n",
    "model.summary()"
   ]
  },
  {
   "cell_type": "code",
   "execution_count": null,
   "metadata": {
    "pycharm": {
     "name": "#%%\n"
    }
   },
   "outputs": [],
   "source": [
    "model.compile(optimizer=tf.keras.optimizers.SGD(learning_rate=0.0001),\n",
    "              loss=tf.keras.losses.SparseCategoricalCrossentropy(from_logits=False),\n",
    "              metrics=['acc'])"
   ]
  },
  {
   "cell_type": "code",
   "execution_count": null,
   "metadata": {
    "pycharm": {
     "name": "#%%\n"
    }
   },
   "outputs": [],
   "source": [
    "X_aux = np.asarray(X).astype('float32')\n",
    "\n",
    "history = model.fit(X_aux, y, epochs=150)"
   ]
  },
  {
   "cell_type": "code",
   "execution_count": null,
   "metadata": {
    "pycharm": {
     "name": "#%%\n"
    }
   },
   "outputs": [],
   "source": [
    "y_predicted = model.predict(X_test, verbose=0)"
   ]
  },
  {
   "cell_type": "code",
   "execution_count": null,
   "metadata": {
    "pycharm": {
     "name": "#%%\n"
    }
   },
   "outputs": [],
   "source": [
    "predicted = []\n",
    "max_value = 0\n",
    "for entry in y_predicted:\n",
    "    max_value = max(entry[0])\n",
    "    predicted.append(entry[0].tolist().index(max_value))"
   ]
  },
  {
   "cell_type": "code",
   "execution_count": null,
   "metadata": {
    "pycharm": {
     "name": "#%%\n"
    }
   },
   "outputs": [],
   "source": [
    "f1score = f1_score(y_test, predicted, average='macro')\n",
    "print(\"CNN Model 2 - Macro F1 Score: \" + str(f1score*100) + \"%\")"
   ]
  },
  {
   "cell_type": "code",
   "execution_count": null,
   "metadata": {
    "pycharm": {
     "name": "#%%\n"
    }
   },
   "outputs": [],
   "source": [
    "f1score = f1_score(y_test, predicted, average='weighted')\n",
    "print(\"CNN Model 2 - Weighted F1 Score: \" + str(f1score*100) + \"%\")"
   ]
  },
  {
   "cell_type": "markdown",
   "metadata": {
    "pycharm": {
     "name": "#%% md\n"
    }
   },
   "source": [
    "## CNN Model 3"
   ]
  },
  {
   "cell_type": "code",
   "execution_count": null,
   "metadata": {
    "pycharm": {
     "name": "#%%\n"
    }
   },
   "outputs": [],
   "source": [
    "cnn_df_train = df_train\n",
    "cnn_df_test = df_test"
   ]
  },
  {
   "cell_type": "code",
   "execution_count": null,
   "metadata": {
    "pycharm": {
     "name": "#%%\n"
    }
   },
   "outputs": [],
   "source": [
    "cnn_df_train['Tweet'] = re_removal(cnn_df_train['Tweet'].astype(str))\n",
    "cnn_df_test['Tweet'] = re_removal(cnn_df_test['Tweet'].astype(str))"
   ]
  },
  {
   "cell_type": "code",
   "execution_count": null,
   "metadata": {
    "pycharm": {
     "name": "#%%\n"
    }
   },
   "outputs": [],
   "source": [
    "cnn_df_train['Tweet'] = remove_stopwords(cnn_df_train['Tweet'].astype(str))\n",
    "cnn_df_test['Tweet'] = remove_stopwords(cnn_df_test['Tweet'].astype(str))"
   ]
  },
  {
   "cell_type": "markdown",
   "metadata": {
    "pycharm": {
     "name": "#%% md\n"
    }
   },
   "source": [
    "Post-wise VADER sentiment analysis"
   ]
  },
  {
   "cell_type": "code",
   "execution_count": null,
   "metadata": {
    "pycharm": {
     "name": "#%%\n"
    }
   },
   "outputs": [],
   "source": [
    "sia = SentimentIntensityAnalyzer()\n",
    "\n",
    "scores = []\n",
    "for entry in cnn_df_train['Tweet']:\n",
    "    scores.append(sia.polarity_scores(entry)[\"compound\"])\n",
    "\n",
    "cnn_df_train['Sentiment'] = scores\n",
    "\n",
    "scores = []\n",
    "for entry in cnn_df_test['Tweet']:\n",
    "    scores.append(sia.polarity_scores(entry)[\"compound\"])\n",
    "\n",
    "cnn_df_test['Sentiment'] = scores"
   ]
  },
  {
   "cell_type": "code",
   "execution_count": null,
   "metadata": {
    "pycharm": {
     "name": "#%%\n"
    }
   },
   "outputs": [],
   "source": [
    "dictionary = create_dict(cnn_df_train['Tweet'], cnn_df_test['Tweet'])"
   ]
  },
  {
   "cell_type": "code",
   "execution_count": null,
   "metadata": {
    "pycharm": {
     "name": "#%%\n"
    }
   },
   "outputs": [],
   "source": [
    "cnn_df_train['Tweet'] = get_embeddings(cnn_df_train['Tweet'], dictionary)\n",
    "cnn_df_test['Tweet'] = get_embeddings(cnn_df_test['Tweet'], dictionary)"
   ]
  },
  {
   "cell_type": "code",
   "execution_count": null,
   "metadata": {
    "pycharm": {
     "name": "#%%\n"
    }
   },
   "outputs": [],
   "source": [
    "cnn_df_train['Name'] = get_embeddings(cnn_df_train['Name'], dictionary)\n",
    "cnn_df_test['Name'] = get_embeddings(cnn_df_test['Name'], dictionary)"
   ]
  },
  {
   "cell_type": "code",
   "execution_count": null,
   "metadata": {
    "pycharm": {
     "name": "#%%\n"
    }
   },
   "outputs": [],
   "source": [
    "cnn_df_train['Username'] = get_embeddings(cnn_df_train['Username'], dictionary)\n",
    "cnn_df_test['Username'] = get_embeddings(cnn_df_test['Username'], dictionary)"
   ]
  },
  {
   "cell_type": "code",
   "execution_count": null,
   "metadata": {
    "pycharm": {
     "name": "#%%\n"
    }
   },
   "outputs": [],
   "source": [
    "cnn_df_train['Category'] = categorial_to_numerical(cnn_df_train['Category'])\n",
    "cnn_df_test['Category'] = categorial_to_numerical(cnn_df_test['Category'])"
   ]
  },
  {
   "cell_type": "code",
   "execution_count": null,
   "metadata": {
    "pycharm": {
     "name": "#%%\n"
    }
   },
   "outputs": [],
   "source": [
    "cnn_df_train['Verified'] = categorial_to_numerical(cnn_df_train['Verified'])\n",
    "cnn_df_test['Verified'] = categorial_to_numerical(cnn_df_test['Verified'])"
   ]
  },
  {
   "cell_type": "code",
   "execution_count": null,
   "metadata": {
    "pycharm": {
     "name": "#%%\n"
    }
   },
   "outputs": [],
   "source": [
    "y = cnn_df_train['Category']\n",
    "y_test = cnn_df_test['Category']\n",
    "X, X_test = multiple_columns(cnn_df_train, cnn_df_test)"
   ]
  },
  {
   "cell_type": "code",
   "execution_count": null,
   "metadata": {
    "pycharm": {
     "name": "#%%\n"
    }
   },
   "outputs": [],
   "source": [
    "size=len(X.columns)\n",
    "\n",
    "model = models.Sequential()\n",
    "model.add(layers.Reshape((1,size)))\n",
    "model.add(layers.Conv1D(32, size, padding='same', use_bias=False, activation='relu', input_shape = (1,size)))\n",
    "model.add(layers.MaxPooling1D(pool_size=2, strides=None, padding='same'))\n",
    "model.add(layers.Dense(32, activation='relu'))\n",
    "model.add(layers.Dropout(rate=0.2, input_shape = (1,size)))\n",
    "model.add(layers.Dense(32, activation='relu'))\n",
    "model.add(layers.Dropout(rate=0.2, input_shape = (1,size)))\n",
    "model.add(layers.Dense(4, activation='softmax'))"
   ]
  },
  {
   "cell_type": "code",
   "execution_count": null,
   "metadata": {
    "pycharm": {
     "name": "#%%\n"
    }
   },
   "outputs": [],
   "source": [
    "model.build((1,size))\n",
    "\n",
    "model.summary()"
   ]
  },
  {
   "cell_type": "code",
   "execution_count": null,
   "metadata": {
    "pycharm": {
     "name": "#%%\n"
    }
   },
   "outputs": [],
   "source": [
    "model.compile(optimizer=tf.keras.optimizers.SGD(learning_rate=0.0001),\n",
    "              loss=tf.keras.losses.SparseCategoricalCrossentropy(from_logits=False),\n",
    "              metrics=['acc',f1_m,precision_m, recall_m])"
   ]
  },
  {
   "cell_type": "code",
   "execution_count": null,
   "metadata": {
    "pycharm": {
     "name": "#%%\n"
    }
   },
   "outputs": [],
   "source": [
    "X_aux = np.asarray(X).astype('float32')\n",
    "\n",
    "history = model.fit(X_aux, y, epochs=150)"
   ]
  },
  {
   "cell_type": "code",
   "execution_count": null,
   "metadata": {
    "pycharm": {
     "name": "#%%\n"
    }
   },
   "outputs": [],
   "source": [
    "y_predicted = model.predict(X_test, verbose=0)"
   ]
  },
  {
   "cell_type": "code",
   "execution_count": null,
   "metadata": {
    "pycharm": {
     "name": "#%%\n"
    }
   },
   "outputs": [],
   "source": [
    "predicted = []\n",
    "max_value = 0\n",
    "for entry in y_predicted:\n",
    "    max_value = max(entry[0])\n",
    "    predicted.append(entry[0].tolist().index(max_value))"
   ]
  },
  {
   "cell_type": "code",
   "execution_count": null,
   "metadata": {
    "pycharm": {
     "name": "#%%\n"
    }
   },
   "outputs": [],
   "source": [
    "f1score = f1_score(y_test, predicted, average='macro')\n",
    "print(\"CNN Model 3 - Macro F1 Score: \" + str(f1score*100) + \"%\")"
   ]
  },
  {
   "cell_type": "code",
   "execution_count": null,
   "metadata": {
    "pycharm": {
     "name": "#%%\n"
    }
   },
   "outputs": [],
   "source": [
    "f1score = f1_score(y_test, predicted, average='weighted')\n",
    "print(\"CNN Model 3 - Weighted F1 Score: \" + str(f1score*100) + \"%\")"
   ]
  },
  {
   "cell_type": "code",
   "execution_count": null,
   "metadata": {
    "pycharm": {
     "name": "#%%\n"
    }
   },
   "outputs": [],
   "source": [
    "knnm_df_train['Name'] = get_embeddings(knnm_df_train['Name'], dictionary)\n",
    "knnm_df_test['Name'] = get_embeddings(knnm_df_test['Name'], dictionary)"
   ]
  },
  {
   "cell_type": "code",
   "execution_count": null,
   "metadata": {
    "pycharm": {
     "name": "#%%\n"
    }
   },
   "outputs": [],
   "source": [
    "knnm_df_train['Username'] = get_embeddings(knnm_df_train['Username'], dictionary)\n",
    "knnm_df_test['Username'] = get_embeddings(knnm_df_test['Username'], dictionary)"
   ]
  },
  {
   "cell_type": "code",
   "execution_count": null,
   "metadata": {
    "pycharm": {
     "name": "#%%\n"
    }
   },
   "outputs": [],
   "source": [
    "knnm_df_train['Category'] = categorial_to_numerical(knnm_df_train['Category'])\n",
    "knnm_df_test['Category'] = categorial_to_numerical(knnm_df_test['Category'])"
   ]
  },
  {
   "cell_type": "code",
   "execution_count": null,
   "metadata": {
    "pycharm": {
     "name": "#%%\n"
    }
   },
   "outputs": [],
   "source": [
    "knnm_df_train['Verified'] = categorial_to_numerical(knnm_df_train['Verified'])\n",
    "knnm_df_test['Verified'] = categorial_to_numerical(knnm_df_test['Verified'])"
   ]
  },
  {
   "cell_type": "code",
   "execution_count": null,
   "metadata": {
    "pycharm": {
     "name": "#%%\n"
    }
   },
   "outputs": [],
   "source": [
    "knnm_model = KNeighborsClassifier()"
   ]
  },
  {
   "cell_type": "code",
   "execution_count": null,
   "metadata": {
    "pycharm": {
     "name": "#%%\n"
    }
   },
   "outputs": [],
   "source": [
    "y = knnm_df_train['Category']\n",
    "y_test = knnm_df_test['Category']\n",
    "X, X_test = multiple_columns(knnm_df_train, knnm_df_test)"
   ]
  },
  {
   "cell_type": "code",
   "execution_count": null,
   "metadata": {
    "pycharm": {
     "name": "#%%\n"
    }
   },
   "outputs": [],
   "source": [
    "knnm_model.fit(X, y)"
   ]
  },
  {
   "cell_type": "code",
   "execution_count": null,
   "metadata": {
    "pycharm": {
     "name": "#%%\n"
    }
   },
   "outputs": [],
   "source": [
    "knnm_predicted = knnm_model.predict(X_test)"
   ]
  },
  {
   "cell_type": "code",
   "execution_count": null,
   "metadata": {
    "pycharm": {
     "name": "#%%\n"
    }
   },
   "outputs": [],
   "source": [
    "f1score = f1_score(y_test, knnm_predicted, average='macro')\n",
    "print(\"KNN Model - Macro F1 Score: \" + str(f1score*100) + \"%\")"
   ]
  },
  {
   "cell_type": "code",
   "execution_count": null,
   "metadata": {
    "pycharm": {
     "name": "#%%\n"
    }
   },
   "outputs": [],
   "source": [
    "f1score = f1_score(y_test, knnm_predicted, average='weighted')\n",
    "print(\"KNN Model - Weighted F1 Score: \" + str(f1score*100) + \"%\")"
   ]
  },
  {
   "cell_type": "markdown",
   "metadata": {
    "pycharm": {
     "name": "#%% md\n"
    }
   },
   "source": [
    "## CNN"
   ]
  },
  {
   "cell_type": "markdown",
   "metadata": {
    "pycharm": {
     "name": "#%% md\n"
    }
   },
   "source": [
    "Source: https://datascience.stackexchange.com/questions/45165/how-to-get-accuracy-f1-precision-and-recall-for-a-keras-model"
   ]
  },
  {
   "cell_type": "code",
   "execution_count": null,
   "metadata": {
    "pycharm": {
     "name": "#%%\n"
    }
   },
   "outputs": [],
   "source": [
    "def recall_m(y_true, y_pred):\n",
    "    true_positives = K.sum(K.round(K.clip(y_true * y_pred, 0, 1)))\n",
    "    possible_positives = K.sum(K.round(K.clip(y_true, 0, 1)))\n",
    "    recall = true_positives / (possible_positives + K.epsilon())\n",
    "    return recall\n",
    "\n",
    "def precision_m(y_true, y_pred):\n",
    "    true_positives = K.sum(K.round(K.clip(y_true * y_pred, 0, 1)))\n",
    "    predicted_positives = K.sum(K.round(K.clip(y_pred, 0, 1)))\n",
    "    precision = true_positives / (predicted_positives + K.epsilon())\n",
    "    return precision\n",
    "\n",
    "def f1_m(y_true, y_pred):\n",
    "    precision = precision_m(y_true, y_pred)\n",
    "    recall = recall_m(y_true, y_pred)\n",
    "    return 2*((precision*recall)/(precision+recall+K.epsilon()))"
   ]
  },
  {
   "cell_type": "markdown",
   "metadata": {
    "pycharm": {
     "name": "#%% md\n"
    }
   },
   "source": [
    "## CNN Model"
   ]
  },
  {
   "cell_type": "markdown",
   "metadata": {
    "pycharm": {
     "name": "#%% md\n"
    }
   },
   "source": [
    "Source: https://www.tensorflow.org/tutorials/images/cnn\n",
    "\n",
    "Layers:\n",
    "\n",
    "- Conv1D (https://keras.io/api/layers/convolution_layers/convolution1d/)\n",
    "- MaxPooling1D (https://keras.io/api/layers/pooling_layers/max_pooling1d/)\n",
    "- Dense (https://keras.io/api/layers/core_layers/dense/)\n",
    "- Dropout (https://keras.io/api/layers/regularization_layers/dropout/)"
   ]
  },
  {
   "cell_type": "code",
   "execution_count": null,
   "metadata": {
    "pycharm": {
     "name": "#%%\n"
    }
   },
   "outputs": [],
   "source": [
    "cnn_df_train = df_train\n",
    "cnn_df_test = df_test"
   ]
  },
  {
   "cell_type": "code",
   "execution_count": null,
   "metadata": {
    "pycharm": {
     "name": "#%%\n"
    }
   },
   "outputs": [],
   "source": [
    "dictionary = create_dict(cnn_df_train['Tweet'], cnn_df_test['Tweet'])"
   ]
  },
  {
   "cell_type": "code",
   "execution_count": null,
   "metadata": {
    "pycharm": {
     "name": "#%%\n"
    }
   },
   "outputs": [],
   "source": [
    "cnn_df_train['Tweet'] = get_embeddings(cnn_df_train['Tweet'], dictionary)\n",
    "cnn_df_test['Tweet'] = get_embeddings(cnn_df_test['Tweet'], dictionary)"
   ]
  },
  {
   "cell_type": "code",
   "execution_count": null,
   "metadata": {
    "pycharm": {
     "name": "#%%\n"
    }
   },
   "outputs": [],
   "source": [
    "cnn_df_train['Name'] = get_embeddings(cnn_df_train['Name'], dictionary)\n",
    "cnn_df_test['Name'] = get_embeddings(cnn_df_test['Name'], dictionary)"
   ]
  },
  {
   "cell_type": "code",
   "execution_count": null,
   "metadata": {
    "pycharm": {
     "name": "#%%\n"
    }
   },
   "outputs": [],
   "source": [
    "cnn_df_train['Username'] = get_embeddings(cnn_df_train['Username'], dictionary)\n",
    "cnn_df_test['Username'] = get_embeddings(cnn_df_test['Username'], dictionary)"
   ]
  },
  {
   "cell_type": "code",
   "execution_count": null,
   "metadata": {
    "pycharm": {
     "name": "#%%\n"
    }
   },
   "outputs": [],
   "source": [
    "cnn_df_train['Category'] = categorial_to_numerical(cnn_df_train['Category'])\n",
    "cnn_df_test['Category'] = categorial_to_numerical(cnn_df_test['Category'])"
   ]
  },
  {
   "cell_type": "code",
   "execution_count": null,
   "metadata": {
    "pycharm": {
     "name": "#%%\n"
    }
   },
   "outputs": [],
   "source": [
    "cnn_df_train['Verified'] = categorial_to_numerical(cnn_df_train['Verified'])\n",
    "cnn_df_test['Verified'] = categorial_to_numerical(cnn_df_test['Verified'])"
   ]
  },
  {
   "cell_type": "code",
   "execution_count": null,
   "metadata": {
    "pycharm": {
     "name": "#%%\n"
    }
   },
   "outputs": [],
   "source": [
    "y = cnn_df_train['Category']\n",
    "y_test = cnn_df_test['Category']\n",
    "X, X_test = multiple_columns(cnn_df_train, cnn_df_test)\n",
    "X, X_test = sum_cols(X, X_test)"
   ]
  },
  {
   "cell_type": "code",
   "execution_count": null,
   "metadata": {
    "pycharm": {
     "name": "#%%\n"
    }
   },
   "outputs": [],
   "source": [
    "size = len(X.columns)\n",
    "\n",
    "model = models.Sequential()\n",
    "model.add(layers.Reshape((1,size)))\n",
    "model.add(layers.Conv1D(32, size, padding='same', use_bias=False, activation='relu', input_shape = (1,size)))\n",
    "model.add(layers.MaxPooling1D(pool_size=2, strides=None, padding='same'))\n",
    "model.add(layers.Dense(32, activation='relu'))\n",
    "model.add(layers.Dropout(rate=0.2, input_shape = (1,size)))\n",
    "model.add(layers.Dense(32, activation='relu'))\n",
    "model.add(layers.Dropout(rate=0.2, input_shape = (1,size)))\n",
    "model.add(layers.Dense(4, activation='softmax'))"
   ]
  },
  {
   "cell_type": "code",
   "execution_count": null,
   "metadata": {
    "pycharm": {
     "name": "#%%\n"
    }
   },
   "outputs": [],
   "source": [
    "model.build((1,size))\n",
    "\n",
    "model.summary()"
   ]
  },
  {
   "cell_type": "code",
   "execution_count": null,
   "metadata": {
    "pycharm": {
     "name": "#%%\n"
    }
   },
   "outputs": [],
   "source": [
    "model.compile(optimizer=tf.keras.optimizers.SGD(learning_rate=0.0001),\n",
    "              loss=tf.keras.losses.SparseCategoricalCrossentropy(from_logits=False),\n",
    "              metrics=['acc'])"
   ]
  },
  {
   "cell_type": "markdown",
   "metadata": {
    "pycharm": {
     "name": "#%% md\n"
    }
   },
   "source": [
    "CNN models trained using stochastic gradient descent and learning rate equal to 0.0001.\n",
    "\n",
    "Sparse Categorical Cross entropy loss function used since there are four label classes."
   ]
  },
  {
   "cell_type": "code",
   "execution_count": null,
   "metadata": {
    "pycharm": {
     "name": "#%%\n"
    }
   },
   "outputs": [],
   "source": [
    "X_aux = np.asarray(X).astype('float32')\n",
    "\n",
    "history = model.fit(X_aux, y, epochs=150)"
   ]
  },
  {
   "cell_type": "code",
   "execution_count": null,
   "metadata": {
    "pycharm": {
     "name": "#%%\n"
    }
   },
   "outputs": [],
   "source": [
    "y_predicted = model.predict(X_test, verbose=0)"
   ]
  },
  {
   "cell_type": "code",
   "execution_count": null,
   "metadata": {
    "pycharm": {
     "name": "#%%\n"
    }
   },
   "outputs": [],
   "source": [
    "predicted = []\n",
    "max_value = 0\n",
    "for entry in y_predicted:\n",
    "    max_value = max(entry[0])\n",
    "    predicted.append(entry[0].tolist().index(max_value))"
   ]
  },
  {
   "cell_type": "code",
   "execution_count": null,
   "metadata": {
    "pycharm": {
     "name": "#%%\n"
    }
   },
   "outputs": [],
   "source": [
    "f1score = f1_score(y_test, predicted, average='macro')\n",
    "print(\"CNN Model 1 - Macro F1 Score: \" + str(f1score*100) + \"%\")"
   ]
  },
  {
   "cell_type": "code",
   "execution_count": null,
   "metadata": {
    "pycharm": {
     "name": "#%%\n"
    }
   },
   "outputs": [],
   "source": [
    "f1score = f1_score(y_test, predicted, average='weighted')\n",
    "print(\"CNN Model 1 - Weighted F1 Score: \" + str(f1score*100) + \"%\")"
   ]
  },
  {
   "cell_type": "markdown",
   "metadata": {
    "pycharm": {
     "name": "#%% md\n"
    }
   },
   "source": [
    "## CNN Model 2"
   ]
  },
  {
   "cell_type": "code",
   "execution_count": null,
   "metadata": {
    "pycharm": {
     "name": "#%%\n"
    }
   },
   "outputs": [],
   "source": [
    "cnn_df_train = df_train\n",
    "cnn_df_test = df_test"
   ]
  },
  {
   "cell_type": "code",
   "execution_count": null,
   "metadata": {
    "pycharm": {
     "name": "#%%\n"
    }
   },
   "outputs": [],
   "source": [
    "cnn_df_train['Tweet'] = re_removal(cnn_df_train['Tweet'].astype(str))\n",
    "cnn_df_test['Tweet'] = re_removal(cnn_df_test['Tweet'].astype(str))"
   ]
  },
  {
   "cell_type": "code",
   "execution_count": null,
   "metadata": {
    "pycharm": {
     "name": "#%%\n"
    }
   },
   "outputs": [],
   "source": [
    "cnn_df_train['Tweet'] = remove_stopwords(cnn_df_train['Tweet'].astype(str))\n",
    "cnn_df_test['Tweet'] = remove_stopwords(cnn_df_test['Tweet'].astype(str))"
   ]
  },
  {
   "cell_type": "code",
   "execution_count": null,
   "metadata": {
    "pycharm": {
     "name": "#%%\n"
    }
   },
   "outputs": [],
   "source": [
    "dictionary = create_dict(cnn_df_train['Tweet'], cnn_df_test['Tweet'])"
   ]
  },
  {
   "cell_type": "code",
   "execution_count": null,
   "metadata": {
    "pycharm": {
     "name": "#%%\n"
    }
   },
   "outputs": [],
   "source": [
    "cnn_df_train['Tweet'] = get_embeddings(cnn_df_train['Tweet'], dictionary)\n",
    "cnn_df_test['Tweet'] = get_embeddings(cnn_df_test['Tweet'], dictionary)"
   ]
  },
  {
   "cell_type": "code",
   "execution_count": null,
   "metadata": {
    "pycharm": {
     "name": "#%%\n"
    }
   },
   "outputs": [],
   "source": [
    "cnn_df_train['Name'] = get_embeddings(cnn_df_train['Name'], dictionary)\n",
    "cnn_df_test['Name'] = get_embeddings(cnn_df_test['Name'], dictionary)"
   ]
  },
  {
   "cell_type": "code",
   "execution_count": null,
   "metadata": {
    "pycharm": {
     "name": "#%%\n"
    }
   },
   "outputs": [],
   "source": [
    "cnn_df_train['Username'] = get_embeddings(cnn_df_train['Username'], dictionary)\n",
    "cnn_df_test['Username'] = get_embeddings(cnn_df_test['Username'], dictionary)"
   ]
  },
  {
   "cell_type": "code",
   "execution_count": null,
   "metadata": {
    "pycharm": {
     "name": "#%%\n"
    }
   },
   "outputs": [],
   "source": [
    "cnn_df_train['Category'] = categorial_to_numerical(cnn_df_train['Category'])\n",
    "cnn_df_test['Category'] = categorial_to_numerical(cnn_df_test['Category'])"
   ]
  },
  {
   "cell_type": "code",
   "execution_count": null,
   "metadata": {
    "pycharm": {
     "name": "#%%\n"
    }
   },
   "outputs": [],
   "source": [
    "cnn_df_train['Verified'] = categorial_to_numerical(cnn_df_train['Verified'])\n",
    "cnn_df_test['Verified'] = categorial_to_numerical(cnn_df_test['Verified'])"
   ]
  },
  {
   "cell_type": "code",
   "execution_count": null,
   "metadata": {
    "pycharm": {
     "name": "#%%\n"
    }
   },
   "outputs": [],
   "source": [
    "y = cnn_df_train['Category']\n",
    "y_test = cnn_df_test['Category']\n",
    "X, X_test = multiple_columns(cnn_df_train, cnn_df_test)"
   ]
  },
  {
   "cell_type": "code",
   "execution_count": null,
   "metadata": {
    "pycharm": {
     "name": "#%%\n"
    }
   },
   "outputs": [],
   "source": [
    "size=(len(X.columns))\n",
    "\n",
    "model = models.Sequential()\n",
    "model.add(layers.Reshape((1,size)))\n",
    "model.add(layers.Conv1D(32, size, padding='same', use_bias=False, activation='relu', input_shape = (1,size)))\n",
    "model.add(layers.MaxPooling1D(pool_size=2, strides=None, padding='same'))\n",
    "model.add(layers.Dense(32, activation='relu'))\n",
    "model.add(layers.Dropout(rate=0.2, input_shape = (1,size)))\n",
    "model.add(layers.Dense(32, activation='relu'))\n",
    "model.add(layers.Dropout(rate=0.2, input_shape = (1,size)))\n",
    "model.add(layers.Dense(4, activation='softmax'))"
   ]
  },
  {
   "cell_type": "code",
   "execution_count": null,
   "metadata": {
    "pycharm": {
     "name": "#%%\n"
    }
   },
   "outputs": [],
   "source": [
    "model.build((1,size))\n",
    "\n",
    "model.summary()"
   ]
  },
  {
   "cell_type": "code",
   "execution_count": null,
   "metadata": {
    "pycharm": {
     "name": "#%%\n"
    }
   },
   "outputs": [],
   "source": [
    "model.compile(optimizer=tf.keras.optimizers.SGD(learning_rate=0.0001),\n",
    "              loss=tf.keras.losses.SparseCategoricalCrossentropy(from_logits=False),\n",
    "              metrics=['acc'])"
   ]
  },
  {
   "cell_type": "code",
   "execution_count": null,
   "metadata": {
    "pycharm": {
     "name": "#%%\n"
    }
   },
   "outputs": [],
   "source": [
    "X_aux = np.asarray(X).astype('float32')\n",
    "\n",
    "history = model.fit(X_aux, y, epochs=150)"
   ]
  },
  {
   "cell_type": "code",
   "execution_count": null,
   "metadata": {
    "pycharm": {
     "name": "#%%\n"
    }
   },
   "outputs": [],
   "source": [
    "y_predicted = model.predict(X_test, verbose=0)"
   ]
  },
  {
   "cell_type": "code",
   "execution_count": null,
   "metadata": {
    "pycharm": {
     "name": "#%%\n"
    }
   },
   "outputs": [],
   "source": [
    "predicted = []\n",
    "max_value = 0\n",
    "for entry in y_predicted:\n",
    "    max_value = max(entry[0])\n",
    "    predicted.append(entry[0].tolist().index(max_value))"
   ]
  },
  {
   "cell_type": "code",
   "execution_count": null,
   "metadata": {
    "pycharm": {
     "name": "#%%\n"
    }
   },
   "outputs": [],
   "source": [
    "f1score = f1_score(y_test, predicted, average='macro')\n",
    "print(\"CNN Model 2 - Macro F1 Score: \" + str(f1score*100) + \"%\")"
   ]
  },
  {
   "cell_type": "code",
   "execution_count": null,
   "metadata": {
    "pycharm": {
     "name": "#%%\n"
    }
   },
   "outputs": [],
   "source": [
    "f1score = f1_score(y_test, predicted, average='weighted')\n",
    "print(\"CNN Model 2 - Weighted F1 Score: \" + str(f1score*100) + \"%\")"
   ]
  },
  {
   "cell_type": "markdown",
   "metadata": {
    "pycharm": {
     "name": "#%% md\n"
    }
   },
   "source": [
    "## CNN Model 3"
   ]
  },
  {
   "cell_type": "code",
   "execution_count": null,
   "metadata": {
    "pycharm": {
     "name": "#%%\n"
    }
   },
   "outputs": [],
   "source": [
    "cnn_df_train = df_train\n",
    "cnn_df_test = df_test"
   ]
  },
  {
   "cell_type": "code",
   "execution_count": null,
   "metadata": {
    "pycharm": {
     "name": "#%%\n"
    }
   },
   "outputs": [],
   "source": [
    "cnn_df_train['Tweet'] = re_removal(cnn_df_train['Tweet'].astype(str))\n",
    "cnn_df_test['Tweet'] = re_removal(cnn_df_test['Tweet'].astype(str))"
   ]
  },
  {
   "cell_type": "code",
   "execution_count": null,
   "metadata": {
    "pycharm": {
     "name": "#%%\n"
    }
   },
   "outputs": [],
   "source": [
    "cnn_df_train['Tweet'] = remove_stopwords(cnn_df_train['Tweet'].astype(str))\n",
    "cnn_df_test['Tweet'] = remove_stopwords(cnn_df_test['Tweet'].astype(str))"
   ]
  },
  {
   "cell_type": "markdown",
   "metadata": {
    "pycharm": {
     "name": "#%% md\n"
    }
   },
   "source": [
    "Post-wise VADER sentiment analysis"
   ]
  },
  {
   "cell_type": "code",
   "execution_count": null,
   "metadata": {
    "pycharm": {
     "name": "#%%\n"
    }
   },
   "outputs": [],
   "source": [
    "sia = SentimentIntensityAnalyzer()\n",
    "\n",
    "scores = []\n",
    "for entry in cnn_df_train['Tweet']:\n",
    "    scores.append(sia.polarity_scores(entry)[\"compound\"])\n",
    "\n",
    "cnn_df_train['Sentiment'] = scores\n",
    "\n",
    "scores = []\n",
    "for entry in cnn_df_test['Tweet']:\n",
    "    scores.append(sia.polarity_scores(entry)[\"compound\"])\n",
    "\n",
    "cnn_df_test['Sentiment'] = scores"
   ]
  },
  {
   "cell_type": "code",
   "execution_count": null,
   "metadata": {
    "pycharm": {
     "name": "#%%\n"
    }
   },
   "outputs": [],
   "source": [
    "dictionary = create_dict(cnn_df_train['Tweet'], cnn_df_test['Tweet'])"
   ]
  },
  {
   "cell_type": "code",
   "execution_count": null,
   "metadata": {
    "pycharm": {
     "name": "#%%\n"
    }
   },
   "outputs": [],
   "source": [
    "cnn_df_train['Tweet'] = get_embeddings(cnn_df_train['Tweet'], dictionary)\n",
    "cnn_df_test['Tweet'] = get_embeddings(cnn_df_test['Tweet'], dictionary)"
   ]
  },
  {
   "cell_type": "code",
   "execution_count": null,
   "metadata": {
    "pycharm": {
     "name": "#%%\n"
    }
   },
   "outputs": [],
   "source": [
    "cnn_df_train['Name'] = get_embeddings(cnn_df_train['Name'], dictionary)\n",
    "cnn_df_test['Name'] = get_embeddings(cnn_df_test['Name'], dictionary)"
   ]
  },
  {
   "cell_type": "code",
   "execution_count": null,
   "metadata": {
    "pycharm": {
     "name": "#%%\n"
    }
   },
   "outputs": [],
   "source": [
    "cnn_df_train['Username'] = get_embeddings(cnn_df_train['Username'], dictionary)\n",
    "cnn_df_test['Username'] = get_embeddings(cnn_df_test['Username'], dictionary)"
   ]
  },
  {
   "cell_type": "code",
   "execution_count": null,
   "metadata": {
    "pycharm": {
     "name": "#%%\n"
    }
   },
   "outputs": [],
   "source": [
    "cnn_df_train['Category'] = categorial_to_numerical(cnn_df_train['Category'])\n",
    "cnn_df_test['Category'] = categorial_to_numerical(cnn_df_test['Category'])"
   ]
  },
  {
   "cell_type": "code",
   "execution_count": null,
   "metadata": {
    "pycharm": {
     "name": "#%%\n"
    }
   },
   "outputs": [],
   "source": [
    "cnn_df_train['Verified'] = categorial_to_numerical(cnn_df_train['Verified'])\n",
    "cnn_df_test['Verified'] = categorial_to_numerical(cnn_df_test['Verified'])"
   ]
  },
  {
   "cell_type": "code",
   "execution_count": null,
   "metadata": {
    "pycharm": {
     "name": "#%%\n"
    }
   },
   "outputs": [],
   "source": [
    "y = cnn_df_train['Category']\n",
    "y_test = cnn_df_test['Category']\n",
    "X, X_test = multiple_columns(cnn_df_train, cnn_df_test)"
   ]
  },
  {
   "cell_type": "code",
   "execution_count": null,
   "metadata": {
    "pycharm": {
     "name": "#%%\n"
    }
   },
   "outputs": [],
   "source": [
    "size=len(X.columns)\n",
    "\n",
    "model = models.Sequential()\n",
    "model.add(layers.Reshape((1,size)))\n",
    "model.add(layers.Conv1D(32, size, padding='same', use_bias=False, activation='relu', input_shape = (1,size)))\n",
    "model.add(layers.MaxPooling1D(pool_size=2, strides=None, padding='same'))\n",
    "model.add(layers.Dense(32, activation='relu'))\n",
    "model.add(layers.Dropout(rate=0.2, input_shape = (1,size)))\n",
    "model.add(layers.Dense(32, activation='relu'))\n",
    "model.add(layers.Dropout(rate=0.2, input_shape = (1,size)))\n",
    "model.add(layers.Dense(4, activation='softmax'))"
   ]
  },
  {
   "cell_type": "code",
   "execution_count": null,
   "metadata": {
    "pycharm": {
     "name": "#%%\n"
    }
   },
   "outputs": [],
   "source": [
    "model.build((1,size))\n",
    "\n",
    "model.summary()"
   ]
  },
  {
   "cell_type": "code",
   "execution_count": null,
   "metadata": {
    "pycharm": {
     "name": "#%%\n"
    }
   },
   "outputs": [],
   "source": [
    "model.compile(optimizer=tf.keras.optimizers.SGD(learning_rate=0.0001),\n",
    "              loss=tf.keras.losses.SparseCategoricalCrossentropy(from_logits=False),\n",
    "              metrics=['acc',f1_m,precision_m, recall_m])"
   ]
  },
  {
   "cell_type": "code",
   "execution_count": null,
   "metadata": {
    "pycharm": {
     "name": "#%%\n"
    }
   },
   "outputs": [],
   "source": [
    "X_aux = np.asarray(X).astype('float32')\n",
    "\n",
    "history = model.fit(X_aux, y, epochs=150)"
   ]
  },
  {
   "cell_type": "code",
   "execution_count": null,
   "metadata": {
    "pycharm": {
     "name": "#%%\n"
    }
   },
   "outputs": [],
   "source": [
    "y_predicted = model.predict(X_test, verbose=0)"
   ]
  },
  {
   "cell_type": "code",
   "execution_count": null,
   "metadata": {
    "pycharm": {
     "name": "#%%\n"
    }
   },
   "outputs": [],
   "source": [
    "predicted = []\n",
    "max_value = 0\n",
    "for entry in y_predicted:\n",
    "    max_value = max(entry[0])\n",
    "    predicted.append(entry[0].tolist().index(max_value))"
   ]
  },
  {
   "cell_type": "code",
   "execution_count": null,
   "metadata": {
    "pycharm": {
     "name": "#%%\n"
    }
   },
   "outputs": [],
   "source": [
    "f1score = f1_score(y_test, predicted, average='macro')\n",
    "print(\"CNN Model 3 - Macro F1 Score: \" + str(f1score*100) + \"%\")"
   ]
  },
  {
   "cell_type": "code",
   "execution_count": null,
   "metadata": {
    "pycharm": {
     "name": "#%%\n"
    }
   },
   "outputs": [],
   "source": [
    "f1score = f1_score(y_test, predicted, average='weighted')\n",
    "print(\"CNN Model 3 - Weighted F1 Score: \" + str(f1score*100) + \"%\")"
   ]
  },
  {
   "cell_type": "code",
   "execution_count": null,
   "metadata": {
    "pycharm": {
     "name": "#%%\n"
    }
   },
   "outputs": [],
   "source": [
    "knnm_df_train['Name'] = get_embeddings(knnm_df_train['Name'], dictionary)\n",
    "knnm_df_test['Name'] = get_embeddings(knnm_df_test['Name'], dictionary)"
   ]
  },
  {
   "cell_type": "code",
   "execution_count": null,
   "metadata": {
    "pycharm": {
     "name": "#%%\n"
    }
   },
   "outputs": [],
   "source": [
    "knnm_df_train['Username'] = get_embeddings(knnm_df_train['Username'], dictionary)\n",
    "knnm_df_test['Username'] = get_embeddings(knnm_df_test['Username'], dictionary)"
   ]
  },
  {
   "cell_type": "code",
   "execution_count": null,
   "metadata": {
    "pycharm": {
     "name": "#%%\n"
    }
   },
   "outputs": [],
   "source": [
    "knnm_df_train['Category'] = categorial_to_numerical(knnm_df_train['Category'])\n",
    "knnm_df_test['Category'] = categorial_to_numerical(knnm_df_test['Category'])"
   ]
  },
  {
   "cell_type": "code",
   "execution_count": null,
   "metadata": {
    "pycharm": {
     "name": "#%%\n"
    }
   },
   "outputs": [],
   "source": [
    "knnm_df_train['Verified'] = categorial_to_numerical(knnm_df_train['Verified'])\n",
    "knnm_df_test['Verified'] = categorial_to_numerical(knnm_df_test['Verified'])"
   ]
  },
  {
   "cell_type": "code",
   "execution_count": null,
   "metadata": {
    "pycharm": {
     "name": "#%%\n"
    }
   },
   "outputs": [],
   "source": [
    "knnm_model = KNeighborsClassifier()"
   ]
  },
  {
   "cell_type": "code",
   "execution_count": null,
   "metadata": {
    "pycharm": {
     "name": "#%%\n"
    }
   },
   "outputs": [],
   "source": [
    "y = knnm_df_train['Category']\n",
    "y_test = knnm_df_test['Category']\n",
    "X, X_test = multiple_columns(knnm_df_train, knnm_df_test)"
   ]
  },
  {
   "cell_type": "code",
   "execution_count": null,
   "metadata": {
    "pycharm": {
     "name": "#%%\n"
    }
   },
   "outputs": [],
   "source": [
    "knnm_model.fit(X, y)"
   ]
  },
  {
   "cell_type": "code",
   "execution_count": null,
   "metadata": {
    "pycharm": {
     "name": "#%%\n"
    }
   },
   "outputs": [],
   "source": [
    "knnm_predicted = knnm_model.predict(X_test)"
   ]
  },
  {
   "cell_type": "code",
   "execution_count": null,
   "metadata": {
    "pycharm": {
     "name": "#%%\n"
    }
   },
   "outputs": [],
   "source": [
    "f1score = f1_score(y_test, knnm_predicted, average='macro')\n",
    "print(\"KNN Model - Macro F1 Score: \" + str(f1score*100) + \"%\")"
   ]
  },
  {
   "cell_type": "code",
   "execution_count": null,
   "metadata": {
    "pycharm": {
     "name": "#%%\n"
    }
   },
   "outputs": [],
   "source": [
    "f1score = f1_score(y_test, knnm_predicted, average='weighted')\n",
    "print(\"KNN Model - Weighted F1 Score: \" + str(f1score*100) + \"%\")"
   ]
  },
  {
   "cell_type": "markdown",
   "metadata": {
    "pycharm": {
     "name": "#%% md\n"
    }
   },
   "source": [
    "## CNN"
   ]
  },
  {
   "cell_type": "markdown",
   "metadata": {
    "pycharm": {
     "name": "#%% md\n"
    }
   },
   "source": [
    "Source: https://datascience.stackexchange.com/questions/45165/how-to-get-accuracy-f1-precision-and-recall-for-a-keras-model"
   ]
  },
  {
   "cell_type": "code",
   "execution_count": null,
   "metadata": {
    "pycharm": {
     "name": "#%%\n"
    }
   },
   "outputs": [],
   "source": [
    "def recall_m(y_true, y_pred):\n",
    "    true_positives = K.sum(K.round(K.clip(y_true * y_pred, 0, 1)))\n",
    "    possible_positives = K.sum(K.round(K.clip(y_true, 0, 1)))\n",
    "    recall = true_positives / (possible_positives + K.epsilon())\n",
    "    return recall\n",
    "\n",
    "def precision_m(y_true, y_pred):\n",
    "    true_positives = K.sum(K.round(K.clip(y_true * y_pred, 0, 1)))\n",
    "    predicted_positives = K.sum(K.round(K.clip(y_pred, 0, 1)))\n",
    "    precision = true_positives / (predicted_positives + K.epsilon())\n",
    "    return precision\n",
    "\n",
    "def f1_m(y_true, y_pred):\n",
    "    precision = precision_m(y_true, y_pred)\n",
    "    recall = recall_m(y_true, y_pred)\n",
    "    return 2*((precision*recall)/(precision+recall+K.epsilon()))"
   ]
  },
  {
   "cell_type": "markdown",
   "metadata": {
    "pycharm": {
     "name": "#%% md\n"
    }
   },
   "source": [
    "## CNN Model"
   ]
  },
  {
   "cell_type": "markdown",
   "metadata": {
    "pycharm": {
     "name": "#%% md\n"
    }
   },
   "source": [
    "Source: https://www.tensorflow.org/tutorials/images/cnn\n",
    "\n",
    "Layers:\n",
    "\n",
    "- Conv1D (https://keras.io/api/layers/convolution_layers/convolution1d/)\n",
    "- MaxPooling1D (https://keras.io/api/layers/pooling_layers/max_pooling1d/)\n",
    "- Dense (https://keras.io/api/layers/core_layers/dense/)\n",
    "- Dropout (https://keras.io/api/layers/regularization_layers/dropout/)"
   ]
  },
  {
   "cell_type": "code",
   "execution_count": null,
   "metadata": {
    "pycharm": {
     "name": "#%%\n"
    }
   },
   "outputs": [],
   "source": [
    "cnn_df_train = df_train\n",
    "cnn_df_test = df_test"
   ]
  },
  {
   "cell_type": "code",
   "execution_count": null,
   "metadata": {
    "pycharm": {
     "name": "#%%\n"
    }
   },
   "outputs": [],
   "source": [
    "dictionary = create_dict(cnn_df_train['Tweet'], cnn_df_test['Tweet'])"
   ]
  },
  {
   "cell_type": "code",
   "execution_count": null,
   "metadata": {
    "pycharm": {
     "name": "#%%\n"
    }
   },
   "outputs": [],
   "source": [
    "cnn_df_train['Tweet'] = get_embeddings(cnn_df_train['Tweet'], dictionary)\n",
    "cnn_df_test['Tweet'] = get_embeddings(cnn_df_test['Tweet'], dictionary)"
   ]
  },
  {
   "cell_type": "code",
   "execution_count": null,
   "metadata": {
    "pycharm": {
     "name": "#%%\n"
    }
   },
   "outputs": [],
   "source": [
    "cnn_df_train['Name'] = get_embeddings(cnn_df_train['Name'], dictionary)\n",
    "cnn_df_test['Name'] = get_embeddings(cnn_df_test['Name'], dictionary)"
   ]
  },
  {
   "cell_type": "code",
   "execution_count": null,
   "metadata": {
    "pycharm": {
     "name": "#%%\n"
    }
   },
   "outputs": [],
   "source": [
    "cnn_df_train['Username'] = get_embeddings(cnn_df_train['Username'], dictionary)\n",
    "cnn_df_test['Username'] = get_embeddings(cnn_df_test['Username'], dictionary)"
   ]
  },
  {
   "cell_type": "code",
   "execution_count": null,
   "metadata": {
    "pycharm": {
     "name": "#%%\n"
    }
   },
   "outputs": [],
   "source": [
    "cnn_df_train['Category'] = categorial_to_numerical(cnn_df_train['Category'])\n",
    "cnn_df_test['Category'] = categorial_to_numerical(cnn_df_test['Category'])"
   ]
  },
  {
   "cell_type": "code",
   "execution_count": null,
   "metadata": {
    "pycharm": {
     "name": "#%%\n"
    }
   },
   "outputs": [],
   "source": [
    "cnn_df_train['Verified'] = categorial_to_numerical(cnn_df_train['Verified'])\n",
    "cnn_df_test['Verified'] = categorial_to_numerical(cnn_df_test['Verified'])"
   ]
  },
  {
   "cell_type": "code",
   "execution_count": null,
   "metadata": {
    "pycharm": {
     "name": "#%%\n"
    }
   },
   "outputs": [],
   "source": [
    "y = cnn_df_train['Category']\n",
    "y_test = cnn_df_test['Category']\n",
    "X, X_test = multiple_columns(cnn_df_train, cnn_df_test)\n",
    "X, X_test = sum_cols(X, X_test)"
   ]
  },
  {
   "cell_type": "code",
   "execution_count": null,
   "metadata": {
    "pycharm": {
     "name": "#%%\n"
    }
   },
   "outputs": [],
   "source": [
    "size = len(X.columns)\n",
    "\n",
    "model = models.Sequential()\n",
    "model.add(layers.Reshape((1,size)))\n",
    "model.add(layers.Conv1D(32, size, padding='same', use_bias=False, activation='relu', input_shape = (1,size)))\n",
    "model.add(layers.MaxPooling1D(pool_size=2, strides=None, padding='same'))\n",
    "model.add(layers.Dense(32, activation='relu'))\n",
    "model.add(layers.Dropout(rate=0.2, input_shape = (1,size)))\n",
    "model.add(layers.Dense(32, activation='relu'))\n",
    "model.add(layers.Dropout(rate=0.2, input_shape = (1,size)))\n",
    "model.add(layers.Dense(4, activation='softmax'))"
   ]
  },
  {
   "cell_type": "code",
   "execution_count": null,
   "metadata": {
    "pycharm": {
     "name": "#%%\n"
    }
   },
   "outputs": [],
   "source": [
    "model.build((1,size))\n",
    "\n",
    "model.summary()"
   ]
  },
  {
   "cell_type": "code",
   "execution_count": null,
   "metadata": {
    "pycharm": {
     "name": "#%%\n"
    }
   },
   "outputs": [],
   "source": [
    "model.compile(optimizer=tf.keras.optimizers.SGD(learning_rate=0.0001),\n",
    "              loss=tf.keras.losses.SparseCategoricalCrossentropy(from_logits=False),\n",
    "              metrics=['acc'])"
   ]
  },
  {
   "cell_type": "markdown",
   "metadata": {
    "pycharm": {
     "name": "#%% md\n"
    }
   },
   "source": [
    "CNN models trained using stochastic gradient descent and learning rate equal to 0.0001.\n",
    "\n",
    "Sparse Categorical Cross entropy loss function used since there are four label classes."
   ]
  },
  {
   "cell_type": "code",
   "execution_count": null,
   "metadata": {
    "pycharm": {
     "name": "#%%\n"
    }
   },
   "outputs": [],
   "source": [
    "X_aux = np.asarray(X).astype('float32')\n",
    "\n",
    "history = model.fit(X_aux, y, epochs=150)"
   ]
  },
  {
   "cell_type": "code",
   "execution_count": null,
   "metadata": {
    "pycharm": {
     "name": "#%%\n"
    }
   },
   "outputs": [],
   "source": [
    "y_predicted = model.predict(X_test, verbose=0)"
   ]
  },
  {
   "cell_type": "code",
   "execution_count": null,
   "metadata": {
    "pycharm": {
     "name": "#%%\n"
    }
   },
   "outputs": [],
   "source": [
    "predicted = []\n",
    "max_value = 0\n",
    "for entry in y_predicted:\n",
    "    max_value = max(entry[0])\n",
    "    predicted.append(entry[0].tolist().index(max_value))"
   ]
  },
  {
   "cell_type": "code",
   "execution_count": null,
   "metadata": {
    "pycharm": {
     "name": "#%%\n"
    }
   },
   "outputs": [],
   "source": [
    "f1score = f1_score(y_test, predicted, average='macro')\n",
    "print(\"CNN Model 1 - Macro F1 Score: \" + str(f1score*100) + \"%\")"
   ]
  },
  {
   "cell_type": "code",
   "execution_count": null,
   "metadata": {
    "pycharm": {
     "name": "#%%\n"
    }
   },
   "outputs": [],
   "source": [
    "f1score = f1_score(y_test, predicted, average='weighted')\n",
    "print(\"CNN Model 1 - Weighted F1 Score: \" + str(f1score*100) + \"%\")"
   ]
  },
  {
   "cell_type": "markdown",
   "metadata": {
    "pycharm": {
     "name": "#%% md\n"
    }
   },
   "source": [
    "## CNN Model 2"
   ]
  },
  {
   "cell_type": "code",
   "execution_count": null,
   "metadata": {
    "pycharm": {
     "name": "#%%\n"
    }
   },
   "outputs": [],
   "source": [
    "cnn_df_train = df_train\n",
    "cnn_df_test = df_test"
   ]
  },
  {
   "cell_type": "code",
   "execution_count": null,
   "metadata": {
    "pycharm": {
     "name": "#%%\n"
    }
   },
   "outputs": [],
   "source": [
    "cnn_df_train['Tweet'] = re_removal(cnn_df_train['Tweet'].astype(str))\n",
    "cnn_df_test['Tweet'] = re_removal(cnn_df_test['Tweet'].astype(str))"
   ]
  },
  {
   "cell_type": "code",
   "execution_count": null,
   "metadata": {
    "pycharm": {
     "name": "#%%\n"
    }
   },
   "outputs": [],
   "source": [
    "cnn_df_train['Tweet'] = remove_stopwords(cnn_df_train['Tweet'].astype(str))\n",
    "cnn_df_test['Tweet'] = remove_stopwords(cnn_df_test['Tweet'].astype(str))"
   ]
  },
  {
   "cell_type": "code",
   "execution_count": null,
   "metadata": {
    "pycharm": {
     "name": "#%%\n"
    }
   },
   "outputs": [],
   "source": [
    "dictionary = create_dict(cnn_df_train['Tweet'], cnn_df_test['Tweet'])"
   ]
  },
  {
   "cell_type": "code",
   "execution_count": null,
   "metadata": {
    "pycharm": {
     "name": "#%%\n"
    }
   },
   "outputs": [],
   "source": [
    "cnn_df_train['Tweet'] = get_embeddings(cnn_df_train['Tweet'], dictionary)\n",
    "cnn_df_test['Tweet'] = get_embeddings(cnn_df_test['Tweet'], dictionary)"
   ]
  },
  {
   "cell_type": "code",
   "execution_count": null,
   "metadata": {
    "pycharm": {
     "name": "#%%\n"
    }
   },
   "outputs": [],
   "source": [
    "cnn_df_train['Name'] = get_embeddings(cnn_df_train['Name'], dictionary)\n",
    "cnn_df_test['Name'] = get_embeddings(cnn_df_test['Name'], dictionary)"
   ]
  },
  {
   "cell_type": "code",
   "execution_count": null,
   "metadata": {
    "pycharm": {
     "name": "#%%\n"
    }
   },
   "outputs": [],
   "source": [
    "cnn_df_train['Username'] = get_embeddings(cnn_df_train['Username'], dictionary)\n",
    "cnn_df_test['Username'] = get_embeddings(cnn_df_test['Username'], dictionary)"
   ]
  },
  {
   "cell_type": "code",
   "execution_count": null,
   "metadata": {
    "pycharm": {
     "name": "#%%\n"
    }
   },
   "outputs": [],
   "source": [
    "cnn_df_train['Category'] = categorial_to_numerical(cnn_df_train['Category'])\n",
    "cnn_df_test['Category'] = categorial_to_numerical(cnn_df_test['Category'])"
   ]
  },
  {
   "cell_type": "code",
   "execution_count": null,
   "metadata": {
    "pycharm": {
     "name": "#%%\n"
    }
   },
   "outputs": [],
   "source": [
    "cnn_df_train['Verified'] = categorial_to_numerical(cnn_df_train['Verified'])\n",
    "cnn_df_test['Verified'] = categorial_to_numerical(cnn_df_test['Verified'])"
   ]
  },
  {
   "cell_type": "code",
   "execution_count": null,
   "metadata": {
    "pycharm": {
     "name": "#%%\n"
    }
   },
   "outputs": [],
   "source": [
    "y = cnn_df_train['Category']\n",
    "y_test = cnn_df_test['Category']\n",
    "X, X_test = multiple_columns(cnn_df_train, cnn_df_test)"
   ]
  },
  {
   "cell_type": "code",
   "execution_count": null,
   "metadata": {
    "pycharm": {
     "name": "#%%\n"
    }
   },
   "outputs": [],
   "source": [
    "size=(len(X.columns))\n",
    "\n",
    "model = models.Sequential()\n",
    "model.add(layers.Reshape((1,size)))\n",
    "model.add(layers.Conv1D(32, size, padding='same', use_bias=False, activation='relu', input_shape = (1,size)))\n",
    "model.add(layers.MaxPooling1D(pool_size=2, strides=None, padding='same'))\n",
    "model.add(layers.Dense(32, activation='relu'))\n",
    "model.add(layers.Dropout(rate=0.2, input_shape = (1,size)))\n",
    "model.add(layers.Dense(32, activation='relu'))\n",
    "model.add(layers.Dropout(rate=0.2, input_shape = (1,size)))\n",
    "model.add(layers.Dense(4, activation='softmax'))"
   ]
  },
  {
   "cell_type": "code",
   "execution_count": null,
   "metadata": {
    "pycharm": {
     "name": "#%%\n"
    }
   },
   "outputs": [],
   "source": [
    "model.build((1,size))\n",
    "\n",
    "model.summary()"
   ]
  },
  {
   "cell_type": "code",
   "execution_count": null,
   "metadata": {
    "pycharm": {
     "name": "#%%\n"
    }
   },
   "outputs": [],
   "source": [
    "model.compile(optimizer=tf.keras.optimizers.SGD(learning_rate=0.0001),\n",
    "              loss=tf.keras.losses.SparseCategoricalCrossentropy(from_logits=False),\n",
    "              metrics=['acc'])"
   ]
  },
  {
   "cell_type": "code",
   "execution_count": null,
   "metadata": {
    "pycharm": {
     "name": "#%%\n"
    }
   },
   "outputs": [],
   "source": [
    "X_aux = np.asarray(X).astype('float32')\n",
    "\n",
    "history = model.fit(X_aux, y, epochs=150)"
   ]
  },
  {
   "cell_type": "code",
   "execution_count": null,
   "metadata": {
    "pycharm": {
     "name": "#%%\n"
    }
   },
   "outputs": [],
   "source": [
    "y_predicted = model.predict(X_test, verbose=0)"
   ]
  },
  {
   "cell_type": "code",
   "execution_count": null,
   "metadata": {
    "pycharm": {
     "name": "#%%\n"
    }
   },
   "outputs": [],
   "source": [
    "predicted = []\n",
    "max_value = 0\n",
    "for entry in y_predicted:\n",
    "    max_value = max(entry[0])\n",
    "    predicted.append(entry[0].tolist().index(max_value))"
   ]
  },
  {
   "cell_type": "code",
   "execution_count": null,
   "metadata": {
    "pycharm": {
     "name": "#%%\n"
    }
   },
   "outputs": [],
   "source": [
    "f1score = f1_score(y_test, predicted, average='macro')\n",
    "print(\"CNN Model 2 - Macro F1 Score: \" + str(f1score*100) + \"%\")"
   ]
  },
  {
   "cell_type": "code",
   "execution_count": null,
   "metadata": {
    "pycharm": {
     "name": "#%%\n"
    }
   },
   "outputs": [],
   "source": [
    "f1score = f1_score(y_test, predicted, average='weighted')\n",
    "print(\"CNN Model 2 - Weighted F1 Score: \" + str(f1score*100) + \"%\")"
   ]
  },
  {
   "cell_type": "markdown",
   "metadata": {
    "pycharm": {
     "name": "#%% md\n"
    }
   },
   "source": [
    "## CNN Model 3"
   ]
  },
  {
   "cell_type": "code",
   "execution_count": null,
   "metadata": {
    "pycharm": {
     "name": "#%%\n"
    }
   },
   "outputs": [],
   "source": [
    "cnn_df_train = df_train\n",
    "cnn_df_test = df_test"
   ]
  },
  {
   "cell_type": "code",
   "execution_count": null,
   "metadata": {
    "pycharm": {
     "name": "#%%\n"
    }
   },
   "outputs": [],
   "source": [
    "cnn_df_train['Tweet'] = re_removal(cnn_df_train['Tweet'].astype(str))\n",
    "cnn_df_test['Tweet'] = re_removal(cnn_df_test['Tweet'].astype(str))"
   ]
  },
  {
   "cell_type": "code",
   "execution_count": null,
   "metadata": {
    "pycharm": {
     "name": "#%%\n"
    }
   },
   "outputs": [],
   "source": [
    "cnn_df_train['Tweet'] = remove_stopwords(cnn_df_train['Tweet'].astype(str))\n",
    "cnn_df_test['Tweet'] = remove_stopwords(cnn_df_test['Tweet'].astype(str))"
   ]
  },
  {
   "cell_type": "markdown",
   "metadata": {
    "pycharm": {
     "name": "#%% md\n"
    }
   },
   "source": [
    "Post-wise VADER sentiment analysis"
   ]
  },
  {
   "cell_type": "code",
   "execution_count": null,
   "metadata": {
    "pycharm": {
     "name": "#%%\n"
    }
   },
   "outputs": [],
   "source": [
    "sia = SentimentIntensityAnalyzer()\n",
    "\n",
    "scores = []\n",
    "for entry in cnn_df_train['Tweet']:\n",
    "    scores.append(sia.polarity_scores(entry)[\"compound\"])\n",
    "\n",
    "cnn_df_train['Sentiment'] = scores\n",
    "\n",
    "scores = []\n",
    "for entry in cnn_df_test['Tweet']:\n",
    "    scores.append(sia.polarity_scores(entry)[\"compound\"])\n",
    "\n",
    "cnn_df_test['Sentiment'] = scores"
   ]
  },
  {
   "cell_type": "code",
   "execution_count": null,
   "metadata": {
    "pycharm": {
     "name": "#%%\n"
    }
   },
   "outputs": [],
   "source": [
    "dictionary = create_dict(cnn_df_train['Tweet'], cnn_df_test['Tweet'])"
   ]
  },
  {
   "cell_type": "code",
   "execution_count": null,
   "metadata": {
    "pycharm": {
     "name": "#%%\n"
    }
   },
   "outputs": [],
   "source": [
    "cnn_df_train['Tweet'] = get_embeddings(cnn_df_train['Tweet'], dictionary)\n",
    "cnn_df_test['Tweet'] = get_embeddings(cnn_df_test['Tweet'], dictionary)"
   ]
  },
  {
   "cell_type": "code",
   "execution_count": null,
   "metadata": {
    "pycharm": {
     "name": "#%%\n"
    }
   },
   "outputs": [],
   "source": [
    "cnn_df_train['Name'] = get_embeddings(cnn_df_train['Name'], dictionary)\n",
    "cnn_df_test['Name'] = get_embeddings(cnn_df_test['Name'], dictionary)"
   ]
  },
  {
   "cell_type": "code",
   "execution_count": null,
   "metadata": {
    "pycharm": {
     "name": "#%%\n"
    }
   },
   "outputs": [],
   "source": [
    "cnn_df_train['Username'] = get_embeddings(cnn_df_train['Username'], dictionary)\n",
    "cnn_df_test['Username'] = get_embeddings(cnn_df_test['Username'], dictionary)"
   ]
  },
  {
   "cell_type": "code",
   "execution_count": null,
   "metadata": {
    "pycharm": {
     "name": "#%%\n"
    }
   },
   "outputs": [],
   "source": [
    "cnn_df_train['Category'] = categorial_to_numerical(cnn_df_train['Category'])\n",
    "cnn_df_test['Category'] = categorial_to_numerical(cnn_df_test['Category'])"
   ]
  },
  {
   "cell_type": "code",
   "execution_count": null,
   "metadata": {
    "pycharm": {
     "name": "#%%\n"
    }
   },
   "outputs": [],
   "source": [
    "cnn_df_train['Verified'] = categorial_to_numerical(cnn_df_train['Verified'])\n",
    "cnn_df_test['Verified'] = categorial_to_numerical(cnn_df_test['Verified'])"
   ]
  },
  {
   "cell_type": "code",
   "execution_count": null,
   "metadata": {
    "pycharm": {
     "name": "#%%\n"
    }
   },
   "outputs": [],
   "source": [
    "y = cnn_df_train['Category']\n",
    "y_test = cnn_df_test['Category']\n",
    "X, X_test = multiple_columns(cnn_df_train, cnn_df_test)"
   ]
  },
  {
   "cell_type": "code",
   "execution_count": null,
   "metadata": {
    "pycharm": {
     "name": "#%%\n"
    }
   },
   "outputs": [],
   "source": [
    "size=len(X.columns)\n",
    "\n",
    "model = models.Sequential()\n",
    "model.add(layers.Reshape((1,size)))\n",
    "model.add(layers.Conv1D(32, size, padding='same', use_bias=False, activation='relu', input_shape = (1,size)))\n",
    "model.add(layers.MaxPooling1D(pool_size=2, strides=None, padding='same'))\n",
    "model.add(layers.Dense(32, activation='relu'))\n",
    "model.add(layers.Dropout(rate=0.2, input_shape = (1,size)))\n",
    "model.add(layers.Dense(32, activation='relu'))\n",
    "model.add(layers.Dropout(rate=0.2, input_shape = (1,size)))\n",
    "model.add(layers.Dense(4, activation='softmax'))"
   ]
  },
  {
   "cell_type": "code",
   "execution_count": null,
   "metadata": {
    "pycharm": {
     "name": "#%%\n"
    }
   },
   "outputs": [],
   "source": [
    "model.build((1,size))\n",
    "\n",
    "model.summary()"
   ]
  },
  {
   "cell_type": "code",
   "execution_count": null,
   "metadata": {
    "pycharm": {
     "name": "#%%\n"
    }
   },
   "outputs": [],
   "source": [
    "model.compile(optimizer=tf.keras.optimizers.SGD(learning_rate=0.0001),\n",
    "              loss=tf.keras.losses.SparseCategoricalCrossentropy(from_logits=False),\n",
    "              metrics=['acc',f1_m,precision_m, recall_m])"
   ]
  },
  {
   "cell_type": "code",
   "execution_count": null,
   "metadata": {
    "pycharm": {
     "name": "#%%\n"
    }
   },
   "outputs": [],
   "source": [
    "X_aux = np.asarray(X).astype('float32')\n",
    "\n",
    "history = model.fit(X_aux, y, epochs=150)"
   ]
  },
  {
   "cell_type": "code",
   "execution_count": null,
   "metadata": {
    "pycharm": {
     "name": "#%%\n"
    }
   },
   "outputs": [],
   "source": [
    "y_predicted = model.predict(X_test, verbose=0)"
   ]
  },
  {
   "cell_type": "code",
   "execution_count": null,
   "metadata": {
    "pycharm": {
     "name": "#%%\n"
    }
   },
   "outputs": [],
   "source": [
    "predicted = []\n",
    "max_value = 0\n",
    "for entry in y_predicted:\n",
    "    max_value = max(entry[0])\n",
    "    predicted.append(entry[0].tolist().index(max_value))"
   ]
  },
  {
   "cell_type": "code",
   "execution_count": null,
   "metadata": {
    "pycharm": {
     "name": "#%%\n"
    }
   },
   "outputs": [],
   "source": [
    "f1score = f1_score(y_test, predicted, average='macro')\n",
    "print(\"CNN Model 3 - Macro F1 Score: \" + str(f1score*100) + \"%\")"
   ]
  },
  {
   "cell_type": "code",
   "execution_count": null,
   "metadata": {
    "pycharm": {
     "name": "#%%\n"
    }
   },
   "outputs": [],
   "source": [
    "f1score = f1_score(y_test, predicted, average='weighted')\n",
    "print(\"CNN Model 3 - Weighted F1 Score: \" + str(f1score*100) + \"%\")"
   ]
  }
 ],
 "metadata": {
  "kernelspec": {
   "display_name": "Python 3 (ipykernel)",
   "language": "python",
   "name": "python3"
  },
  "language_info": {
   "codemirror_mode": {
    "name": "ipython",
    "version": 3
   },
   "file_extension": ".py",
   "mimetype": "text/x-python",
   "name": "python",
   "nbconvert_exporter": "python",
   "pygments_lexer": "ipython3",
   "version": "3.10.0"
  },
  "vscode": {
   "interpreter": {
    "hash": "f934fbb25029892d3b14b148e937619c40bbc38c451d7ef603eae696f838ea37"
   }
  }
 },
 "nbformat": 4,
 "nbformat_minor": 1
}